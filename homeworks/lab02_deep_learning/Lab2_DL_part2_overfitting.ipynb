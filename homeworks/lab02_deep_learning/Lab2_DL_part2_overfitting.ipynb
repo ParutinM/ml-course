{
  "cells": [
    {
      "cell_type": "markdown",
      "metadata": {
        "id": "NFmOh482SyEF"
      },
      "source": [
        "## Lab 2\n",
        "### Part 2: Dealing with overfitting"
      ]
    },
    {
      "cell_type": "markdown",
      "metadata": {
        "id": "AjzAuO3oSvsI"
      },
      "source": [
        "Today we work with [Fashion-MNIST dataset](https://github.com/zalandoresearch/fashion-mnist) (*hint: it is available in `torchvision`*).\n",
        "\n",
        "Your goal for today:\n",
        "1. Train a FC (fully-connected) network that achieves >= 0.885 test accuracy.\n",
        "2. Cause considerable overfitting by modifying the network (e.g. increasing the number of network parameters and/or layers) and demonstrate in in the appropriate way (e.g. plot loss and accurasy on train and validation set w.r.t. network complexity).\n",
        "3. Try to deal with overfitting (at least partially) by using regularization techniques (Dropout/Batchnorm/...) and demonstrate the results.\n",
        "\n",
        "__Please, write a small report describing your ideas, tries and achieved results in the end of this file.__\n",
        "\n",
        "*Note*: Tasks 2 and 3 are interrelated, in task 3 your goal is to make the network from task 2 less prone to overfitting. Task 1 is independent from 2 and 3.\n",
        "\n",
        "*Note 2*: We recomment to use Google Colab or other machine with GPU acceleration."
      ]
    },
    {
      "cell_type": "code",
      "execution_count": 1,
      "metadata": {
        "id": "_KBld6VOSwhW"
      },
      "outputs": [],
      "source": [
        "import time\n",
        "import torch\n",
        "import torch.nn as nn\n",
        "import torchvision\n",
        "import torchvision.transforms as transforms\n",
        "import torchsummary\n",
        "from IPython.display import clear_output\n",
        "from matplotlib import pyplot as plt\n",
        "from matplotlib.pyplot import figure\n",
        "import numpy as np\n",
        "import os\n",
        "\n",
        "\n",
        "device = 'cuda:0' if torch.cuda.is_available() else 'cpu'"
      ]
    },
    {
      "cell_type": "code",
      "execution_count": 2,
      "metadata": {
        "colab": {
          "base_uri": "https://localhost:8080/"
        },
        "id": "EdLOG0XqS_g5",
        "outputId": "e8b41c65-1b55-493e-e53a-b8d266e75df4"
      },
      "outputs": [
        {
          "output_type": "stream",
          "name": "stdout",
          "text": [
            "Directory fmnist is created!\n"
          ]
        }
      ],
      "source": [
        "# Technical function\n",
        "def mkdir(path):\n",
        "    if not os.path.exists(root_path):\n",
        "        os.mkdir(root_path)\n",
        "        print('Directory', path, 'is created!')\n",
        "    else:\n",
        "        print('Directory', path, 'already exists!')\n",
        "        \n",
        "root_path = 'fmnist'\n",
        "mkdir(root_path)"
      ]
    },
    {
      "cell_type": "code",
      "execution_count": 3,
      "metadata": {
        "colab": {
          "base_uri": "https://localhost:8080/",
          "height": 431,
          "referenced_widgets": [
            "7757b16de61348ac8d9c6dc41dc09dfd",
            "08a968ca05dc4208a8cb324eecfb54af",
            "d320ef0895ef488ab49de0a69f89678a",
            "a44a90d83aab4b179a14706725667098",
            "11be25974d9b4d069853234ded9fbb6e",
            "c3e1ba4869e44ebcb1bac8f4443efba9",
            "884bbeaaa98a475090aaf64d9258577f",
            "fa8a577012354117a9ca382c03fb1366",
            "e09e24fee43042e7b29f43805c6282ac",
            "0b79a0a7ba1840eb947be3974fa9ab7e",
            "697cfc7c5833461f89cc4943061944b6",
            "2dbf3e623b5e40c6b31852b2bd30d553",
            "912d2d2e24cf4d4ab104ce90cb81e854",
            "a560421bf3e94f3091624ffd978d731f",
            "b813546c146645c1b78c807e1370c338",
            "1bfd1a1f80f848fd8d2cacf0eb612018",
            "11c47e46a3d0476c978a8d21a0a8306e",
            "d024a80e16404b09bb7b2ba78ca6a539",
            "34c379ce4e8d4bf5b795a09ec925568d",
            "48fac48226c14fde843d4d4930266fb1",
            "049c5b8f038f4db09c86309ac4c9b1e1",
            "55417582fbe043888010a6231ab09f61",
            "32b2d97f70d645909f93b6a7ef365152",
            "6286ebeb49e740beb0cc9fd407b3a6b8",
            "cc2d9fe7ad8144618035b6043ed1af67",
            "00662f8bae16474b895ef17c2a44c840",
            "6dc3ffc3ca594bd089eed9029f5b4fa5",
            "9e1119293d1c43e39178a3da961537e3",
            "c525317c6dd44bd8952303372e8a591a",
            "4fbefb99b15044cb9c0fb08ca0ee37a2",
            "eefdac801328467fb61f0bf2d646b4c7",
            "bdcc9f9dd2334363a6d66603c3625b1e",
            "98e1d13f9594475da92c3c02281368d1",
            "529971d5bc4a46ef8a6199cc1b7d8877",
            "1398d7c5adaf4d809759421db0f6e741",
            "b3cbdf19e7b84ae5ac6d1f7774fac9eb",
            "f0b4d635f7734e5fa9e8709b55bfc1a5",
            "92f7d1f7c72b4c5fa615747f2907e83f",
            "476323e6c0ae4ceeadf844753bbe881e",
            "60f999d6b91c43eba1b88d0e2669a99a",
            "e641b43b020949fdadaf49e11abed7e2",
            "c8001770b8584266ad233c1b74de1cf9",
            "c0fbcc15e4b94019aa8fd34ae25c5e4b",
            "d2bdaa5947b24cd0b9cbd6e373af37d5"
          ]
        },
        "id": "qt6LE7XaTDT9",
        "outputId": "9bd60a14-3e95-4be1-8a99-6c988b7a00b8"
      },
      "outputs": [
        {
          "output_type": "stream",
          "name": "stdout",
          "text": [
            "Downloading http://fashion-mnist.s3-website.eu-central-1.amazonaws.com/train-images-idx3-ubyte.gz\n",
            "Downloading http://fashion-mnist.s3-website.eu-central-1.amazonaws.com/train-images-idx3-ubyte.gz to fmnist/FashionMNIST/raw/train-images-idx3-ubyte.gz\n"
          ]
        },
        {
          "output_type": "display_data",
          "data": {
            "text/plain": [
              "  0%|          | 0/26421880 [00:00<?, ?it/s]"
            ],
            "application/vnd.jupyter.widget-view+json": {
              "version_major": 2,
              "version_minor": 0,
              "model_id": "7757b16de61348ac8d9c6dc41dc09dfd"
            }
          },
          "metadata": {}
        },
        {
          "output_type": "stream",
          "name": "stdout",
          "text": [
            "Extracting fmnist/FashionMNIST/raw/train-images-idx3-ubyte.gz to fmnist/FashionMNIST/raw\n",
            "\n",
            "Downloading http://fashion-mnist.s3-website.eu-central-1.amazonaws.com/train-labels-idx1-ubyte.gz\n",
            "Downloading http://fashion-mnist.s3-website.eu-central-1.amazonaws.com/train-labels-idx1-ubyte.gz to fmnist/FashionMNIST/raw/train-labels-idx1-ubyte.gz\n"
          ]
        },
        {
          "output_type": "display_data",
          "data": {
            "text/plain": [
              "  0%|          | 0/29515 [00:00<?, ?it/s]"
            ],
            "application/vnd.jupyter.widget-view+json": {
              "version_major": 2,
              "version_minor": 0,
              "model_id": "2dbf3e623b5e40c6b31852b2bd30d553"
            }
          },
          "metadata": {}
        },
        {
          "output_type": "stream",
          "name": "stdout",
          "text": [
            "Extracting fmnist/FashionMNIST/raw/train-labels-idx1-ubyte.gz to fmnist/FashionMNIST/raw\n",
            "\n",
            "Downloading http://fashion-mnist.s3-website.eu-central-1.amazonaws.com/t10k-images-idx3-ubyte.gz\n",
            "Downloading http://fashion-mnist.s3-website.eu-central-1.amazonaws.com/t10k-images-idx3-ubyte.gz to fmnist/FashionMNIST/raw/t10k-images-idx3-ubyte.gz\n"
          ]
        },
        {
          "output_type": "display_data",
          "data": {
            "text/plain": [
              "  0%|          | 0/4422102 [00:00<?, ?it/s]"
            ],
            "application/vnd.jupyter.widget-view+json": {
              "version_major": 2,
              "version_minor": 0,
              "model_id": "32b2d97f70d645909f93b6a7ef365152"
            }
          },
          "metadata": {}
        },
        {
          "output_type": "stream",
          "name": "stdout",
          "text": [
            "Extracting fmnist/FashionMNIST/raw/t10k-images-idx3-ubyte.gz to fmnist/FashionMNIST/raw\n",
            "\n",
            "Downloading http://fashion-mnist.s3-website.eu-central-1.amazonaws.com/t10k-labels-idx1-ubyte.gz\n",
            "Downloading http://fashion-mnist.s3-website.eu-central-1.amazonaws.com/t10k-labels-idx1-ubyte.gz to fmnist/FashionMNIST/raw/t10k-labels-idx1-ubyte.gz\n"
          ]
        },
        {
          "output_type": "display_data",
          "data": {
            "text/plain": [
              "  0%|          | 0/5148 [00:00<?, ?it/s]"
            ],
            "application/vnd.jupyter.widget-view+json": {
              "version_major": 2,
              "version_minor": 0,
              "model_id": "529971d5bc4a46ef8a6199cc1b7d8877"
            }
          },
          "metadata": {}
        },
        {
          "output_type": "stream",
          "name": "stdout",
          "text": [
            "Extracting fmnist/FashionMNIST/raw/t10k-labels-idx1-ubyte.gz to fmnist/FashionMNIST/raw\n",
            "\n"
          ]
        }
      ],
      "source": [
        "download = True\n",
        "train_transform = transforms.ToTensor()\n",
        "test_transform = transforms.ToTensor()\n",
        "transforms.Compose((transforms.ToTensor()))\n",
        "\n",
        "\n",
        "fmnist_dataset_train = torchvision.datasets.FashionMNIST(root_path, \n",
        "                                                        train=True, \n",
        "                                                        transform=train_transform,\n",
        "                                                        target_transform=None,\n",
        "                                                        download=download)\n",
        "fmnist_dataset_test = torchvision.datasets.FashionMNIST(root_path, \n",
        "                                                       train=False, \n",
        "                                                       transform=test_transform,\n",
        "                                                       target_transform=None,\n",
        "                                                       download=download)"
      ]
    },
    {
      "cell_type": "code",
      "execution_count": 4,
      "metadata": {
        "id": "71YP0SPwTIxD"
      },
      "outputs": [],
      "source": [
        "train_loader = torch.utils.data.DataLoader(fmnist_dataset_train, \n",
        "                                           batch_size=128,\n",
        "                                           shuffle=True,\n",
        "                                           num_workers=2)\n",
        "test_loader = torch.utils.data.DataLoader(fmnist_dataset_test,\n",
        "                                          batch_size=256,\n",
        "                                          shuffle=False,\n",
        "                                          num_workers=2)"
      ]
    },
    {
      "cell_type": "code",
      "execution_count": 5,
      "metadata": {
        "colab": {
          "base_uri": "https://localhost:8080/"
        },
        "id": "v_YFmF7NTWrQ",
        "outputId": "3ce0e54f-5df2-494c-cece-5a189f823dc3"
      },
      "outputs": [
        {
          "output_type": "execute_result",
          "data": {
            "text/plain": [
              "10000"
            ]
          },
          "metadata": {},
          "execution_count": 5
        }
      ],
      "source": [
        "len(fmnist_dataset_test)"
      ]
    },
    {
      "cell_type": "markdown",
      "metadata": {
        "id": "b6OOOffHTfX5"
      },
      "source": [
        "### Task 1\n",
        "Train a network that achieves $\\geq 0.885$ test accuracy. It's fine to use only Linear (`nn.Linear`) layers and activations/dropout/batchnorm. Convolutional layers might be a great use, but we will meet them a bit later."
      ]
    },
    {
      "cell_type": "code",
      "execution_count": 6,
      "metadata": {
        "id": "ftpkTjxlTcFx"
      },
      "outputs": [],
      "source": [
        "from torch.nn.modules.batchnorm import BatchNorm1d\n",
        "from torch.nn.modules.dropout import Dropout\n",
        "class TinyNeuralNetwork(nn.Module):\n",
        "    def __init__(self, input_shape=28*28, num_classes=10, input_channels=1):\n",
        "        super(self.__class__, self).__init__()\n",
        "        self.model = nn.Sequential(\n",
        "            nn.Flatten(), # This layer converts image into a vector to use Linear layers afterwards\n",
        "            # Your network structure comes here\n",
        "            nn.Linear(input_shape, input_shape // 2),\n",
        "            nn.ReLU(),\n",
        "            nn.Dropout(0.4),\n",
        "            nn.Linear(input_shape // 2, input_shape // 4),\n",
        "            nn.BatchNorm1d(input_shape // 4)\n",
        "        )\n",
        "        \n",
        "    def forward(self, inp):       \n",
        "        out = self.model(inp)\n",
        "        return out"
      ]
    },
    {
      "cell_type": "code",
      "execution_count": 7,
      "metadata": {
        "colab": {
          "base_uri": "https://localhost:8080/"
        },
        "id": "fMi7msrV3WfP",
        "outputId": "c7774ea4-b13c-41f0-8317-60cc3eaedf42"
      },
      "outputs": [
        {
          "output_type": "stream",
          "name": "stdout",
          "text": [
            "----------------------------------------------------------------\n",
            "        Layer (type)               Output Shape         Param #\n",
            "================================================================\n",
            "           Flatten-1                  [-1, 784]               0\n",
            "            Linear-2                  [-1, 392]         307,720\n",
            "              ReLU-3                  [-1, 392]               0\n",
            "           Dropout-4                  [-1, 392]               0\n",
            "            Linear-5                  [-1, 196]          77,028\n",
            "       BatchNorm1d-6                  [-1, 196]             392\n",
            "================================================================\n",
            "Total params: 385,140\n",
            "Trainable params: 385,140\n",
            "Non-trainable params: 0\n",
            "----------------------------------------------------------------\n",
            "Input size (MB): 0.00\n",
            "Forward/backward pass size (MB): 0.02\n",
            "Params size (MB): 1.47\n",
            "Estimated Total Size (MB): 1.49\n",
            "----------------------------------------------------------------\n"
          ]
        }
      ],
      "source": [
        "torchsummary.summary(TinyNeuralNetwork().to(device), (28*28,))"
      ]
    },
    {
      "cell_type": "markdown",
      "metadata": {
        "id": "544PGKEnjPr5"
      },
      "source": [
        "Your experiments come here:"
      ]
    },
    {
      "cell_type": "code",
      "execution_count": 8,
      "metadata": {
        "id": "i3POFj90Ti-6"
      },
      "outputs": [],
      "source": [
        "model = TinyNeuralNetwork().to(device)\n",
        "opt = torch.optim.Adam(model.parameters(), lr=1e-3)\n",
        "loss_func = nn.CrossEntropyLoss()\n",
        "\n",
        "# Your experiments, training and validation loops here\n",
        "\n",
        "def train_model(model, train_loader, val_loader, loss_fn, opt, n_epochs: int):\n",
        "    train_loss_history = []\n",
        "    val_loss_history = []\n",
        "    train_accuracy_history = []\n",
        "    val_accuracy_history = []\n",
        "    message = ''\n",
        "    for i in range(n_epochs):\n",
        "        \n",
        "        start = time.time()\n",
        "        model.train(True) # enable dropout / batch_norm training behavior\n",
        "        for X_batch, y_batch in train_loader:\n",
        "            # move data to target device\n",
        "            X_batch, y_batch = X_batch.to(device), y_batch.to(device)\n",
        "\n",
        "            # train on batch: compute loss, calc grads, perform optimizer step and zero the grads\n",
        "            y_pred = model(X_batch)\n",
        "            loss = loss_func(y_pred, y_batch)\n",
        "            loss.backward()\n",
        "            opt.step()\n",
        "            opt.zero_grad()\n",
        "\n",
        "            y_pred = torch.argmax(y_pred, axis=1)\n",
        "            train_accuracy_history.append(torch.sum(y_pred==y_batch).item() / len(y_batch))\n",
        "            train_loss_history.append(loss.item())\n",
        "\n",
        "        model.train(False) # disable dropout / use averages for batch_norm\n",
        "        with torch.no_grad():\n",
        "            for X_batch, y_batch in val_loader:\n",
        "                # move data to target device\n",
        "                X_batch, y_batch = X_batch.to(device), y_batch.to(device)\n",
        "\n",
        "                # compute predictions\n",
        "                y_pred = model(X_batch)\n",
        "                loss = loss_func(y_pred, y_batch)\n",
        "                val_loss_history.append(loss.item())\n",
        "                y_pred = torch.argmax(y_pred, axis=1)\n",
        "                val_accuracy_history.append(torch.sum(y_pred==y_batch).item() / len(y_batch))\n",
        "        end = time.time()\n",
        "        message += f'Epoch num: {i} || Avg val loss: {round(sum(val_loss_history)/len(val_loss_history), 3)} || Avg train loss: {round(sum(train_loss_history)/len(train_loss_history), 3)} || Time needed: {round(end-start, 3)} sec.\\n'  \n",
        "\n",
        "        clear_output(wait=True)\n",
        "        plt.figure(figsize=(16, 10))\n",
        "        fig, axs = plt.subplots(2, 2)\n",
        "        fig.set_size_inches(16, 10)\n",
        "        axs[0, 0].plot(val_loss_history, 'b', label='Validation' )\n",
        "        axs[0, 0].set_title('Loss Validation')\n",
        "        axs[0, 0].set(xlabel=\"#iteration\", ylabel='loss', ylim=(0, 6))\n",
        "        axs[0, 1].plot(train_loss_history, 'orange', label='Train' )\n",
        "        axs[0, 1].set_title('Loss Train')\n",
        "        axs[0, 1].set(xlabel=\"#iteration\", ylabel='loss', ylim=(0, 6))\n",
        "        axs[1, 0].plot(val_accuracy_history, 'g', label='Validation' )\n",
        "        axs[1, 0].set_title('Accuracy Validation')\n",
        "        axs[1, 0].set(xlabel=\"#iteration\", ylabel='accuracy', ylim=(0, 1))\n",
        "        axs[1, 1].plot(train_accuracy_history, 'r', label='Train')\n",
        "        axs[1, 1].set_title('Accuracy Train')\n",
        "        axs[1, 1].set(xlabel=\"#iteration\", ylabel='accuracy', ylim=(0, 1))\n",
        "\n",
        "        plt.show()\n",
        "        \n",
        "        print(message) \n",
        "\n",
        "    return train_loss_history, val_loss_history, val_accuracy_history, train_accuracy_history"
      ]
    },
    {
      "cell_type": "code",
      "execution_count": 9,
      "metadata": {
        "colab": {
          "base_uri": "https://localhost:8080/",
          "height": 835
        },
        "id": "xiy-BO5kJU1t",
        "outputId": "eada31e9-11d0-45ed-82a7-e8952c26a39b"
      },
      "outputs": [
        {
          "output_type": "display_data",
          "data": {
            "text/plain": [
              "<Figure size 1152x720 with 0 Axes>"
            ]
          },
          "metadata": {}
        },
        {
          "output_type": "display_data",
          "data": {
            "text/plain": [
              "<Figure size 1152x720 with 4 Axes>"
            ],
            "image/png": "[encoded data removed]"
          },
          "metadata": {
            "needs_background": "light"
          }
        },
        {
          "output_type": "stream",
          "name": "stdout",
          "text": [
            "Epoch num: 0 || Avg val loss: 1.431 || Avg train loss: 2.323 || Time needed: 7.081 sec.\n",
            "Epoch num: 1 || Avg val loss: 1.132 || Avg train loss: 1.746 || Time needed: 7.227 sec.\n",
            "Epoch num: 2 || Avg val loss: 0.955 || Avg train loss: 1.416 || Time needed: 7.484 sec.\n",
            "Epoch num: 3 || Avg val loss: 0.84 || Avg train loss: 1.209 || Time needed: 7.13 sec.\n",
            "Epoch num: 4 || Avg val loss: 0.759 || Avg train loss: 1.067 || Time needed: 7.187 sec.\n",
            "Epoch num: 5 || Avg val loss: 0.703 || Avg train loss: 0.965 || Time needed: 7.41 sec.\n",
            "Epoch num: 6 || Avg val loss: 0.658 || Avg train loss: 0.887 || Time needed: 7.091 sec.\n",
            "Epoch num: 7 || Avg val loss: 0.623 || Avg train loss: 0.826 || Time needed: 7.117 sec.\n",
            "Epoch num: 8 || Avg val loss: 0.594 || Avg train loss: 0.776 || Time needed: 7.173 sec.\n",
            "Epoch num: 9 || Avg val loss: 0.571 || Avg train loss: 0.735 || Time needed: 7.143 sec.\n",
            "\n"
          ]
        }
      ],
      "source": [
        "n_epochs = 10\n",
        "\n",
        "train_loss, val_loss, val_accuracy, train_accuracy = train_model(model, train_loader, test_loader, loss_func, opt, n_epochs)"
      ]
    },
    {
      "cell_type": "code",
      "execution_count": 10,
      "metadata": {
        "colab": {
          "base_uri": "https://localhost:8080/"
        },
        "id": "DKGaE1QdVZLU",
        "outputId": "1ab05940-d247-464c-97f7-0fdd9eacbb18"
      },
      "outputs": [
        {
          "output_type": "stream",
          "name": "stdout",
          "text": [
            "Accuracy on val: 0.9375\n"
          ]
        }
      ],
      "source": [
        "print(f'Accuracy on val: {val_accuracy[-1]}')"
      ]
    },
    {
      "cell_type": "markdown",
      "metadata": {
        "id": "L7ISqkjmCPB1"
      },
      "source": [
        "### Task 2: Overfit it.\n",
        "Build a network that will overfit to this dataset. Demonstrate the overfitting in the appropriate way (e.g. plot loss and accurasy on train and test set w.r.t. network complexity).\n",
        "\n",
        "*Note:* you also might decrease the size of `train` dataset to enforce the overfitting and speed up the computations."
      ]
    },
    {
      "cell_type": "code",
      "execution_count": 19,
      "metadata": {
        "id": "l659L2d--fG_"
      },
      "outputs": [],
      "source": [
        "indices = np.arange(20000)\n",
        "train_dataset_decreased = torch.utils.data.Subset(fmnist_dataset_train, indices)\n",
        "train_loader = torch.utils.data.DataLoader(train_dataset_decreased, \n",
        "                                           batch_size=256,\n",
        "                                           shuffle=True,\n",
        "                                           num_workers=2)\n",
        "\n",
        "class OverfittingNeuralNetwork(nn.Module):\n",
        "    def __init__(self, input_shape=28*28, num_classes=10, input_channels=1):\n",
        "        super(self.__class__, self).__init__()\n",
        "        self.model = nn.Sequential(\n",
        "            nn.Flatten(), # This layer converts image into a vector to use Linear layers afterwards\n",
        "            # Your network structure comes here\n",
        "            nn.Linear(input_shape, input_shape * 2),\n",
        "            nn.ReLU(),\n",
        "            nn.Linear(input_shape * 2, input_shape * 8),\n",
        "            nn.ReLU(),\n",
        "            nn.Linear(input_shape * 8, input_shape * 2),\n",
        "            nn.ReLU(),\n",
        "            nn.Linear(input_shape * 2, input_shape),\n",
        "            nn.ReLU(),\n",
        "            nn.Linear(input_shape, num_classes)\n",
        "        )\n",
        "        \n",
        "    def forward(self, inp):       \n",
        "        out = self.model(inp)\n",
        "        return out"
      ]
    },
    {
      "cell_type": "code",
      "execution_count": 20,
      "metadata": {
        "colab": {
          "base_uri": "https://localhost:8080/"
        },
        "id": "JgXAKCpvCwqH",
        "outputId": "c13b81fa-34ba-44e3-a087-2b9bc5339618"
      },
      "outputs": [
        {
          "output_type": "stream",
          "name": "stdout",
          "text": [
            "----------------------------------------------------------------\n",
            "        Layer (type)               Output Shape         Param #\n",
            "================================================================\n",
            "           Flatten-1                  [-1, 784]               0\n",
            "            Linear-2                 [-1, 1568]       1,230,880\n",
            "              ReLU-3                 [-1, 1568]               0\n",
            "            Linear-4                 [-1, 6272]       9,840,768\n",
            "              ReLU-5                 [-1, 6272]               0\n",
            "            Linear-6                 [-1, 1568]       9,836,064\n",
            "              ReLU-7                 [-1, 1568]               0\n",
            "            Linear-8                  [-1, 784]       1,230,096\n",
            "              ReLU-9                  [-1, 784]               0\n",
            "           Linear-10                   [-1, 10]           7,850\n",
            "================================================================\n",
            "Total params: 22,145,658\n",
            "Trainable params: 22,145,658\n",
            "Non-trainable params: 0\n",
            "----------------------------------------------------------------\n",
            "Input size (MB): 0.00\n",
            "Forward/backward pass size (MB): 0.16\n",
            "Params size (MB): 84.48\n",
            "Estimated Total Size (MB): 84.64\n",
            "----------------------------------------------------------------\n"
          ]
        }
      ],
      "source": [
        "torchsummary.summary(OverfittingNeuralNetwork().to(device), (28*28,))"
      ]
    },
    {
      "cell_type": "code",
      "execution_count": 21,
      "metadata": {
        "colab": {
          "base_uri": "https://localhost:8080/",
          "height": 1000
        },
        "id": "bicoWcdI3WfV",
        "outputId": "989238b6-9e47-43c0-ffcf-28ad5ec72b89"
      },
      "outputs": [
        {
          "output_type": "display_data",
          "data": {
            "text/plain": [
              "<Figure size 1152x720 with 0 Axes>"
            ]
          },
          "metadata": {}
        },
        {
          "output_type": "display_data",
          "data": {
            "text/plain": [
              "<Figure size 1152x720 with 4 Axes>"
            ],
            "image/png": "[encoded data removed]"
          },
          "metadata": {
            "needs_background": "light"
          }
        },
        {
          "output_type": "stream",
          "name": "stdout",
          "text": [
            "Epoch num: 0 || Avg val loss: 0.602 || Avg train loss: 0.793 || Time needed: 3.283 sec.\n",
            "Epoch num: 1 || Avg val loss: 0.531 || Avg train loss: 0.625 || Time needed: 3.191 sec.\n",
            "Epoch num: 2 || Avg val loss: 0.511 || Avg train loss: 0.548 || Time needed: 3.343 sec.\n",
            "Epoch num: 3 || Avg val loss: 0.503 || Avg train loss: 0.503 || Time needed: 3.293 sec.\n",
            "Epoch num: 4 || Avg val loss: 0.495 || Avg train loss: 0.473 || Time needed: 3.281 sec.\n",
            "Epoch num: 5 || Avg val loss: 0.482 || Avg train loss: 0.448 || Time needed: 3.731 sec.\n",
            "Epoch num: 6 || Avg val loss: 0.48 || Avg train loss: 0.427 || Time needed: 3.403 sec.\n",
            "Epoch num: 7 || Avg val loss: 0.47 || Avg train loss: 0.41 || Time needed: 3.777 sec.\n",
            "Epoch num: 8 || Avg val loss: 0.463 || Avg train loss: 0.394 || Time needed: 3.323 sec.\n",
            "Epoch num: 9 || Avg val loss: 0.456 || Avg train loss: 0.381 || Time needed: 3.266 sec.\n",
            "Epoch num: 10 || Avg val loss: 0.454 || Avg train loss: 0.369 || Time needed: 3.664 sec.\n",
            "Epoch num: 11 || Avg val loss: 0.451 || Avg train loss: 0.358 || Time needed: 3.251 sec.\n",
            "Epoch num: 12 || Avg val loss: 0.45 || Avg train loss: 0.349 || Time needed: 3.233 sec.\n",
            "Epoch num: 13 || Avg val loss: 0.447 || Avg train loss: 0.34 || Time needed: 3.285 sec.\n",
            "Epoch num: 14 || Avg val loss: 0.443 || Avg train loss: 0.333 || Time needed: 3.302 sec.\n",
            "Epoch num: 15 || Avg val loss: 0.441 || Avg train loss: 0.325 || Time needed: 3.301 sec.\n",
            "Epoch num: 16 || Avg val loss: 0.441 || Avg train loss: 0.317 || Time needed: 3.232 sec.\n",
            "Epoch num: 17 || Avg val loss: 0.44 || Avg train loss: 0.311 || Time needed: 3.202 sec.\n",
            "Epoch num: 18 || Avg val loss: 0.439 || Avg train loss: 0.304 || Time needed: 3.255 sec.\n",
            "Epoch num: 19 || Avg val loss: 0.441 || Avg train loss: 0.297 || Time needed: 3.213 sec.\n",
            "Epoch num: 20 || Avg val loss: 0.446 || Avg train loss: 0.292 || Time needed: 3.362 sec.\n",
            "Epoch num: 21 || Avg val loss: 0.449 || Avg train loss: 0.286 || Time needed: 3.314 sec.\n",
            "Epoch num: 22 || Avg val loss: 0.449 || Avg train loss: 0.281 || Time needed: 3.264 sec.\n",
            "Epoch num: 23 || Avg val loss: 0.453 || Avg train loss: 0.276 || Time needed: 3.257 sec.\n",
            "Epoch num: 24 || Avg val loss: 0.457 || Avg train loss: 0.27 || Time needed: 3.26 sec.\n",
            "Epoch num: 25 || Avg val loss: 0.459 || Avg train loss: 0.266 || Time needed: 3.236 sec.\n",
            "Epoch num: 26 || Avg val loss: 0.462 || Avg train loss: 0.261 || Time needed: 3.273 sec.\n",
            "Epoch num: 27 || Avg val loss: 0.465 || Avg train loss: 0.257 || Time needed: 3.236 sec.\n",
            "Epoch num: 28 || Avg val loss: 0.467 || Avg train loss: 0.252 || Time needed: 3.262 sec.\n",
            "Epoch num: 29 || Avg val loss: 0.47 || Avg train loss: 0.248 || Time needed: 3.284 sec.\n",
            "Epoch num: 30 || Avg val loss: 0.475 || Avg train loss: 0.244 || Time needed: 3.239 sec.\n",
            "Epoch num: 31 || Avg val loss: 0.476 || Avg train loss: 0.24 || Time needed: 3.262 sec.\n",
            "Epoch num: 32 || Avg val loss: 0.479 || Avg train loss: 0.237 || Time needed: 3.242 sec.\n",
            "Epoch num: 33 || Avg val loss: 0.479 || Avg train loss: 0.233 || Time needed: 3.231 sec.\n",
            "Epoch num: 34 || Avg val loss: 0.482 || Avg train loss: 0.229 || Time needed: 3.306 sec.\n",
            "Epoch num: 35 || Avg val loss: 0.484 || Avg train loss: 0.226 || Time needed: 3.215 sec.\n",
            "Epoch num: 36 || Avg val loss: 0.487 || Avg train loss: 0.223 || Time needed: 3.227 sec.\n",
            "Epoch num: 37 || Avg val loss: 0.492 || Avg train loss: 0.219 || Time needed: 3.324 sec.\n",
            "Epoch num: 38 || Avg val loss: 0.494 || Avg train loss: 0.217 || Time needed: 3.279 sec.\n",
            "Epoch num: 39 || Avg val loss: 0.497 || Avg train loss: 0.213 || Time needed: 3.24 sec.\n",
            "Epoch num: 40 || Avg val loss: 0.501 || Avg train loss: 0.21 || Time needed: 3.288 sec.\n",
            "Epoch num: 41 || Avg val loss: 0.505 || Avg train loss: 0.208 || Time needed: 3.253 sec.\n",
            "Epoch num: 42 || Avg val loss: 0.507 || Avg train loss: 0.205 || Time needed: 3.318 sec.\n",
            "Epoch num: 43 || Avg val loss: 0.51 || Avg train loss: 0.202 || Time needed: 3.308 sec.\n",
            "Epoch num: 44 || Avg val loss: 0.514 || Avg train loss: 0.199 || Time needed: 3.267 sec.\n",
            "Epoch num: 45 || Avg val loss: 0.519 || Avg train loss: 0.196 || Time needed: 3.31 sec.\n",
            "Epoch num: 46 || Avg val loss: 0.523 || Avg train loss: 0.194 || Time needed: 3.332 sec.\n",
            "Epoch num: 47 || Avg val loss: 0.528 || Avg train loss: 0.191 || Time needed: 3.607 sec.\n",
            "Epoch num: 48 || Avg val loss: 0.532 || Avg train loss: 0.189 || Time needed: 3.459 sec.\n",
            "Epoch num: 49 || Avg val loss: 0.535 || Avg train loss: 0.187 || Time needed: 3.246 sec.\n",
            "\n"
          ]
        }
      ],
      "source": [
        "n_epochs = 50\n",
        "model = OverfittingNeuralNetwork().to(device)\n",
        "opt = torch.optim.Adam(model.parameters(), lr=1e-3)\n",
        "loss_func = nn.CrossEntropyLoss()\n",
        "\n",
        "train_loss1, val_loss1, val_accuracy1, train_accuracy1 = train_model(model, train_loader, test_loader, loss_func, opt, n_epochs)"
      ]
    },
    {
      "cell_type": "markdown",
      "metadata": {
        "id": "2ctWj5GQ3WfW"
      },
      "source": [
        "### Task 3: Fix it.\n",
        "Fix the overfitted network from the previous step (at least partially) by using regularization techniques (Dropout/Batchnorm/...) and demonstrate the results. "
      ]
    },
    {
      "cell_type": "code",
      "execution_count": null,
      "metadata": {
        "id": "N4oFMwPN3WfW"
      },
      "outputs": [],
      "source": [
        "#first get back to the original training dataset\n",
        "train_loader = torch.utils.data.DataLoader(fmnist_dataset_train, \n",
        "                                           batch_size=128,\n",
        "                                           shuffle=True,\n",
        "                                           num_workers=2)"
      ]
    },
    {
      "cell_type": "code",
      "execution_count": 22,
      "metadata": {
        "id": "0r6BMU2D7R94"
      },
      "outputs": [],
      "source": [
        "class FixedNeuralNetwork(nn.Module):\n",
        "    def __init__(self, input_shape=28*28, num_classes=10, input_channels=1):\n",
        "        super(self.__class__, self).__init__()\n",
        "        self.model = nn.Sequential(\n",
        "            nn.Flatten(), # This layer converts image into a vector to use Linear layers afterwards\n",
        "            # Your network structure comes here\n",
        "            nn.Dropout(0.5),\n",
        "            nn.Linear(input_shape, input_shape * 2),\n",
        "            nn.ReLU(),\n",
        "            nn.BatchNorm1d(input_shape * 2),\n",
        "            nn.Linear(input_shape * 2, input_shape * 8),\n",
        "            nn.Dropout(0.75),\n",
        "            nn.ReLU(),\n",
        "            nn.BatchNorm1d(input_shape * 8),\n",
        "            nn.Linear(input_shape * 8, input_shape * 2),\n",
        "            nn.Dropout(0.5),\n",
        "            nn.ReLU(),\n",
        "            nn.BatchNorm1d(input_shape * 2),\n",
        "            nn.Linear(input_shape * 2, input_shape * 1),\n",
        "            nn.Dropout(0.5),\n",
        "            nn.ReLU(),\n",
        "            nn.Linear(input_shape, num_classes),\n",
        "            nn.BatchNorm1d(num_classes)\n",
        "        )\n",
        "        \n",
        "    def forward(self, inp):       \n",
        "        out = self.model(inp)\n",
        "        return out"
      ]
    },
    {
      "cell_type": "code",
      "execution_count": 23,
      "metadata": {
        "colab": {
          "base_uri": "https://localhost:8080/"
        },
        "id": "f5WceBkOa5Lx",
        "outputId": "ebbdcf66-6887-4377-9aab-5479e9664688"
      },
      "outputs": [
        {
          "output_type": "stream",
          "name": "stdout",
          "text": [
            "----------------------------------------------------------------\n",
            "        Layer (type)               Output Shape         Param #\n",
            "================================================================\n",
            "           Flatten-1                  [-1, 784]               0\n",
            "           Dropout-2                  [-1, 784]               0\n",
            "            Linear-3                 [-1, 1568]       1,230,880\n",
            "              ReLU-4                 [-1, 1568]               0\n",
            "       BatchNorm1d-5                 [-1, 1568]           3,136\n",
            "            Linear-6                 [-1, 6272]       9,840,768\n",
            "           Dropout-7                 [-1, 6272]               0\n",
            "              ReLU-8                 [-1, 6272]               0\n",
            "       BatchNorm1d-9                 [-1, 6272]          12,544\n",
            "           Linear-10                 [-1, 1568]       9,836,064\n",
            "          Dropout-11                 [-1, 1568]               0\n",
            "             ReLU-12                 [-1, 1568]               0\n",
            "      BatchNorm1d-13                 [-1, 1568]           3,136\n",
            "           Linear-14                  [-1, 784]       1,230,096\n",
            "          Dropout-15                  [-1, 784]               0\n",
            "             ReLU-16                  [-1, 784]               0\n",
            "           Linear-17                   [-1, 10]           7,850\n",
            "      BatchNorm1d-18                   [-1, 10]              20\n",
            "================================================================\n",
            "Total params: 22,164,494\n",
            "Trainable params: 22,164,494\n",
            "Non-trainable params: 0\n",
            "----------------------------------------------------------------\n",
            "Input size (MB): 0.00\n",
            "Forward/backward pass size (MB): 0.31\n",
            "Params size (MB): 84.55\n",
            "Estimated Total Size (MB): 84.86\n",
            "----------------------------------------------------------------\n"
          ]
        }
      ],
      "source": [
        "torchsummary.summary(FixedNeuralNetwork().to(device), (28*28,))"
      ]
    },
    {
      "cell_type": "code",
      "execution_count": 24,
      "metadata": {
        "colab": {
          "base_uri": "https://localhost:8080/",
          "height": 1000
        },
        "id": "On64KMok3WfX",
        "outputId": "b8077a12-7372-4983-ef14-4e5c301eebbe"
      },
      "outputs": [
        {
          "output_type": "display_data",
          "data": {
            "text/plain": [
              "<Figure size 1152x720 with 0 Axes>"
            ]
          },
          "metadata": {}
        },
        {
          "output_type": "display_data",
          "data": {
            "text/plain": [
              "<Figure size 1152x720 with 4 Axes>"
            ],
            "image/png": "[encoded data removed]"
          },
          "metadata": {
            "needs_background": "light"
          }
        },
        {
          "output_type": "stream",
          "name": "stdout",
          "text": [
            "Epoch num: 0 || Avg val loss: 0.622 || Avg train loss: 0.981 || Time needed: 3.346 sec.\n",
            "Epoch num: 1 || Avg val loss: 0.601 || Avg train loss: 0.865 || Time needed: 3.335 sec.\n",
            "Epoch num: 2 || Avg val loss: 0.585 || Avg train loss: 0.801 || Time needed: 3.721 sec.\n",
            "Epoch num: 3 || Avg val loss: 0.567 || Avg train loss: 0.759 || Time needed: 3.429 sec.\n",
            "Epoch num: 4 || Avg val loss: 0.554 || Avg train loss: 0.726 || Time needed: 3.305 sec.\n",
            "Epoch num: 5 || Avg val loss: 0.54 || Avg train loss: 0.7 || Time needed: 3.347 sec.\n",
            "Epoch num: 6 || Avg val loss: 0.529 || Avg train loss: 0.679 || Time needed: 3.332 sec.\n",
            "Epoch num: 7 || Avg val loss: 0.519 || Avg train loss: 0.66 || Time needed: 3.374 sec.\n",
            "Epoch num: 8 || Avg val loss: 0.51 || Avg train loss: 0.642 || Time needed: 3.35 sec.\n",
            "Epoch num: 9 || Avg val loss: 0.503 || Avg train loss: 0.628 || Time needed: 3.316 sec.\n",
            "Epoch num: 10 || Avg val loss: 0.498 || Avg train loss: 0.615 || Time needed: 4.024 sec.\n",
            "Epoch num: 11 || Avg val loss: 0.491 || Avg train loss: 0.603 || Time needed: 4.233 sec.\n",
            "Epoch num: 12 || Avg val loss: 0.486 || Avg train loss: 0.593 || Time needed: 3.413 sec.\n",
            "Epoch num: 13 || Avg val loss: 0.482 || Avg train loss: 0.583 || Time needed: 3.499 sec.\n",
            "Epoch num: 14 || Avg val loss: 0.478 || Avg train loss: 0.574 || Time needed: 3.371 sec.\n",
            "Epoch num: 15 || Avg val loss: 0.474 || Avg train loss: 0.566 || Time needed: 3.367 sec.\n",
            "Epoch num: 16 || Avg val loss: 0.469 || Avg train loss: 0.558 || Time needed: 3.403 sec.\n",
            "Epoch num: 17 || Avg val loss: 0.465 || Avg train loss: 0.55 || Time needed: 3.344 sec.\n",
            "Epoch num: 18 || Avg val loss: 0.462 || Avg train loss: 0.543 || Time needed: 3.367 sec.\n",
            "Epoch num: 19 || Avg val loss: 0.46 || Avg train loss: 0.537 || Time needed: 3.367 sec.\n",
            "Epoch num: 20 || Avg val loss: 0.456 || Avg train loss: 0.53 || Time needed: 3.377 sec.\n",
            "Epoch num: 21 || Avg val loss: 0.453 || Avg train loss: 0.524 || Time needed: 3.34 sec.\n",
            "Epoch num: 22 || Avg val loss: 0.451 || Avg train loss: 0.518 || Time needed: 3.41 sec.\n",
            "Epoch num: 23 || Avg val loss: 0.449 || Avg train loss: 0.513 || Time needed: 3.627 sec.\n",
            "Epoch num: 24 || Avg val loss: 0.447 || Avg train loss: 0.508 || Time needed: 3.332 sec.\n",
            "Epoch num: 25 || Avg val loss: 0.444 || Avg train loss: 0.503 || Time needed: 3.378 sec.\n",
            "Epoch num: 26 || Avg val loss: 0.442 || Avg train loss: 0.498 || Time needed: 3.362 sec.\n",
            "Epoch num: 27 || Avg val loss: 0.44 || Avg train loss: 0.494 || Time needed: 3.325 sec.\n",
            "Epoch num: 28 || Avg val loss: 0.437 || Avg train loss: 0.49 || Time needed: 3.634 sec.\n",
            "Epoch num: 29 || Avg val loss: 0.435 || Avg train loss: 0.486 || Time needed: 4.168 sec.\n",
            "Epoch num: 30 || Avg val loss: 0.434 || Avg train loss: 0.482 || Time needed: 3.451 sec.\n",
            "Epoch num: 31 || Avg val loss: 0.432 || Avg train loss: 0.479 || Time needed: 3.39 sec.\n",
            "Epoch num: 32 || Avg val loss: 0.43 || Avg train loss: 0.475 || Time needed: 4.557 sec.\n",
            "Epoch num: 33 || Avg val loss: 0.429 || Avg train loss: 0.472 || Time needed: 3.704 sec.\n",
            "Epoch num: 34 || Avg val loss: 0.427 || Avg train loss: 0.468 || Time needed: 3.37 sec.\n",
            "Epoch num: 35 || Avg val loss: 0.426 || Avg train loss: 0.465 || Time needed: 3.929 sec.\n",
            "Epoch num: 36 || Avg val loss: 0.424 || Avg train loss: 0.462 || Time needed: 3.443 sec.\n",
            "Epoch num: 37 || Avg val loss: 0.423 || Avg train loss: 0.459 || Time needed: 4.746 sec.\n",
            "Epoch num: 38 || Avg val loss: 0.421 || Avg train loss: 0.456 || Time needed: 3.997 sec.\n",
            "Epoch num: 39 || Avg val loss: 0.42 || Avg train loss: 0.454 || Time needed: 3.915 sec.\n",
            "Epoch num: 40 || Avg val loss: 0.419 || Avg train loss: 0.451 || Time needed: 3.955 sec.\n",
            "Epoch num: 41 || Avg val loss: 0.417 || Avg train loss: 0.448 || Time needed: 4.047 sec.\n",
            "Epoch num: 42 || Avg val loss: 0.416 || Avg train loss: 0.446 || Time needed: 4.105 sec.\n",
            "Epoch num: 43 || Avg val loss: 0.415 || Avg train loss: 0.443 || Time needed: 3.864 sec.\n",
            "Epoch num: 44 || Avg val loss: 0.414 || Avg train loss: 0.44 || Time needed: 3.366 sec.\n",
            "Epoch num: 45 || Avg val loss: 0.413 || Avg train loss: 0.438 || Time needed: 3.331 sec.\n",
            "Epoch num: 46 || Avg val loss: 0.412 || Avg train loss: 0.436 || Time needed: 3.385 sec.\n",
            "Epoch num: 47 || Avg val loss: 0.411 || Avg train loss: 0.434 || Time needed: 3.324 sec.\n",
            "Epoch num: 48 || Avg val loss: 0.41 || Avg train loss: 0.431 || Time needed: 3.344 sec.\n",
            "Epoch num: 49 || Avg val loss: 0.409 || Avg train loss: 0.429 || Time needed: 3.297 sec.\n",
            "\n"
          ]
        }
      ],
      "source": [
        "n_epochs = 50\n",
        "model = FixedNeuralNetwork().to(device)\n",
        "opt = torch.optim.Adam(model.parameters(), lr=1e-3)\n",
        "loss_func = nn.CrossEntropyLoss()\n",
        "\n",
        "train_loss_fixed, val_loss_fixed, val_accuracy_fixed, train_accuracy_fixed = train_model(model, train_loader, test_loader, loss_func, opt, n_epochs)"
      ]
    },
    {
      "cell_type": "markdown",
      "metadata": {
        "id": "dMui_uLJ7G0d"
      },
      "source": [
        "### Conclusions:\n",
        "_Write down small report with your conclusions and your ideas._"
      ]
    },
    {
      "cell_type": "markdown",
      "metadata": {
        "id": "lH0jPS6Dd_4q"
      },
      "source": [
        "In this lab work I was working with the Fashion-MNIST dataset, the work consisted of three tasks:\n",
        "1. Train a simple neural network and gain the acccuracy of $\\geq 0.885$\n",
        "\n",
        "- I choose the simple one with Dropout and BacthNorm to prevent overffiting. It has $0.9375$ accuracy score and two linear layers\n",
        "2. Intentionally overfit the network and so to say inspect the overfitting rate dependency on the model's complexity\n",
        "\n",
        "- I found that after about 15 epoches OverfittingNeuralNetwork()'s loss was starting to increase.\n",
        "\n",
        "3. Fix the overfitting.\n",
        "- Dropout()'s and BatchNorm()'s were used to fix the most overfitted network OverfittingNeuralNetwork(). Having the put before and after each linear layer, I succeded at eliminating the overfitting in it.\n",
        "\n",
        "*To sum it up, neural networks are eager to overfit and the simplier the model, faster it overfits. Dropout and Batch Normalization techniques are greate ways to prevent them from that.*\n"
      ]
    }
  ],
  "metadata": {
    "accelerator": "GPU",
    "colab": {
      "provenance": []
    },
    "kernelspec": {
      "display_name": "Python 3.8.5 ('base')",
      "language": "python",
      "name": "python3"
    },
    "language_info": {
      "codemirror_mode": {
        "name": "ipython",
        "version": 3
      },
      "file_extension": ".py",
      "mimetype": "text/x-python",
      "name": "python",
      "nbconvert_exporter": "python",
      "pygments_lexer": "ipython3",
      "version": "3.8.5"
    },
    "vscode": {
      "interpreter": {
        "hash": "0cf4ef0a02384aefacf37015a13f15ce9548feeb0c1e3e74625f412bfd815792"
      }
    },
    "widgets": {
      "application/vnd.jupyter.widget-state+json": {
        "7757b16de61348ac8d9c6dc41dc09dfd": {
          "model_module": "@jupyter-widgets/controls",
          "model_name": "HBoxModel",
          "model_module_version": "1.5.0",
          "state": {
            "_dom_classes": [],
            "_model_module": "@jupyter-widgets/controls",
            "_model_module_version": "1.5.0",
            "_model_name": "HBoxModel",
            "_view_count": null,
            "_view_module": "@jupyter-widgets/controls",
            "_view_module_version": "1.5.0",
            "_view_name": "HBoxView",
            "box_style": "",
            "children": [
              "IPY_MODEL_08a968ca05dc4208a8cb324eecfb54af",
              "IPY_MODEL_d320ef0895ef488ab49de0a69f89678a",
              "IPY_MODEL_a44a90d83aab4b179a14706725667098"
            ],
            "layout": "IPY_MODEL_11be25974d9b4d069853234ded9fbb6e"
          }
        },
        "08a968ca05dc4208a8cb324eecfb54af": {
          "model_module": "@jupyter-widgets/controls",
          "model_name": "HTMLModel",
          "model_module_version": "1.5.0",
          "state": {
            "_dom_classes": [],
            "_model_module": "@jupyter-widgets/controls",
            "_model_module_version": "1.5.0",
            "_model_name": "HTMLModel",
            "_view_count": null,
            "_view_module": "@jupyter-widgets/controls",
            "_view_module_version": "1.5.0",
            "_view_name": "HTMLView",
            "description": "",
            "description_tooltip": null,
            "layout": "IPY_MODEL_c3e1ba4869e44ebcb1bac8f4443efba9",
            "placeholder": "​",
            "style": "IPY_MODEL_884bbeaaa98a475090aaf64d9258577f",
            "value": "100%"
          }
        },
        "d320ef0895ef488ab49de0a69f89678a": {
          "model_module": "@jupyter-widgets/controls",
          "model_name": "FloatProgressModel",
          "model_module_version": "1.5.0",
          "state": {
            "_dom_classes": [],
            "_model_module": "@jupyter-widgets/controls",
            "_model_module_version": "1.5.0",
            "_model_name": "FloatProgressModel",
            "_view_count": null,
            "_view_module": "@jupyter-widgets/controls",
            "_view_module_version": "1.5.0",
            "_view_name": "ProgressView",
            "bar_style": "success",
            "description": "",
            "description_tooltip": null,
            "layout": "IPY_MODEL_fa8a577012354117a9ca382c03fb1366",
            "max": 26421880,
            "min": 0,
            "orientation": "horizontal",
            "style": "IPY_MODEL_e09e24fee43042e7b29f43805c6282ac",
            "value": 26421880
          }
        },
        "a44a90d83aab4b179a14706725667098": {
          "model_module": "@jupyter-widgets/controls",
          "model_name": "HTMLModel",
          "model_module_version": "1.5.0",
          "state": {
            "_dom_classes": [],
            "_model_module": "@jupyter-widgets/controls",
            "_model_module_version": "1.5.0",
            "_model_name": "HTMLModel",
            "_view_count": null,
            "_view_module": "@jupyter-widgets/controls",
            "_view_module_version": "1.5.0",
            "_view_name": "HTMLView",
            "description": "",
            "description_tooltip": null,
            "layout": "IPY_MODEL_0b79a0a7ba1840eb947be3974fa9ab7e",
            "placeholder": "​",
            "style": "IPY_MODEL_697cfc7c5833461f89cc4943061944b6",
            "value": " 26421880/26421880 [00:03&lt;00:00, 13535647.25it/s]"
          }
        },
        "11be25974d9b4d069853234ded9fbb6e": {
          "model_module": "@jupyter-widgets/base",
          "model_name": "LayoutModel",
          "model_module_version": "1.2.0",
          "state": {
            "_model_module": "@jupyter-widgets/base",
            "_model_module_version": "1.2.0",
            "_model_name": "LayoutModel",
            "_view_count": null,
            "_view_module": "@jupyter-widgets/base",
            "_view_module_version": "1.2.0",
            "_view_name": "LayoutView",
            "align_content": null,
            "align_items": null,
            "align_self": null,
            "border": null,
            "bottom": null,
            "display": null,
            "flex": null,
            "flex_flow": null,
            "grid_area": null,
            "grid_auto_columns": null,
            "grid_auto_flow": null,
            "grid_auto_rows": null,
            "grid_column": null,
            "grid_gap": null,
            "grid_row": null,
            "grid_template_areas": null,
            "grid_template_columns": null,
            "grid_template_rows": null,
            "height": null,
            "justify_content": null,
            "justify_items": null,
            "left": null,
            "margin": null,
            "max_height": null,
            "max_width": null,
            "min_height": null,
            "min_width": null,
            "object_fit": null,
            "object_position": null,
            "order": null,
            "overflow": null,
            "overflow_x": null,
            "overflow_y": null,
            "padding": null,
            "right": null,
            "top": null,
            "visibility": null,
            "width": null
          }
        },
        "c3e1ba4869e44ebcb1bac8f4443efba9": {
          "model_module": "@jupyter-widgets/base",
          "model_name": "LayoutModel",
          "model_module_version": "1.2.0",
          "state": {
            "_model_module": "@jupyter-widgets/base",
            "_model_module_version": "1.2.0",
            "_model_name": "LayoutModel",
            "_view_count": null,
            "_view_module": "@jupyter-widgets/base",
            "_view_module_version": "1.2.0",
            "_view_name": "LayoutView",
            "align_content": null,
            "align_items": null,
            "align_self": null,
            "border": null,
            "bottom": null,
            "display": null,
            "flex": null,
            "flex_flow": null,
            "grid_area": null,
            "grid_auto_columns": null,
            "grid_auto_flow": null,
            "grid_auto_rows": null,
            "grid_column": null,
            "grid_gap": null,
            "grid_row": null,
            "grid_template_areas": null,
            "grid_template_columns": null,
            "grid_template_rows": null,
            "height": null,
            "justify_content": null,
            "justify_items": null,
            "left": null,
            "margin": null,
            "max_height": null,
            "max_width": null,
            "min_height": null,
            "min_width": null,
            "object_fit": null,
            "object_position": null,
            "order": null,
            "overflow": null,
            "overflow_x": null,
            "overflow_y": null,
            "padding": null,
            "right": null,
            "top": null,
            "visibility": null,
            "width": null
          }
        },
        "884bbeaaa98a475090aaf64d9258577f": {
          "model_module": "@jupyter-widgets/controls",
          "model_name": "DescriptionStyleModel",
          "model_module_version": "1.5.0",
          "state": {
            "_model_module": "@jupyter-widgets/controls",
            "_model_module_version": "1.5.0",
            "_model_name": "DescriptionStyleModel",
            "_view_count": null,
            "_view_module": "@jupyter-widgets/base",
            "_view_module_version": "1.2.0",
            "_view_name": "StyleView",
            "description_width": ""
          }
        },
        "fa8a577012354117a9ca382c03fb1366": {
          "model_module": "@jupyter-widgets/base",
          "model_name": "LayoutModel",
          "model_module_version": "1.2.0",
          "state": {
            "_model_module": "@jupyter-widgets/base",
            "_model_module_version": "1.2.0",
            "_model_name": "LayoutModel",
            "_view_count": null,
            "_view_module": "@jupyter-widgets/base",
            "_view_module_version": "1.2.0",
            "_view_name": "LayoutView",
            "align_content": null,
            "align_items": null,
            "align_self": null,
            "border": null,
            "bottom": null,
            "display": null,
            "flex": null,
            "flex_flow": null,
            "grid_area": null,
            "grid_auto_columns": null,
            "grid_auto_flow": null,
            "grid_auto_rows": null,
            "grid_column": null,
            "grid_gap": null,
            "grid_row": null,
            "grid_template_areas": null,
            "grid_template_columns": null,
            "grid_template_rows": null,
            "height": null,
            "justify_content": null,
            "justify_items": null,
            "left": null,
            "margin": null,
            "max_height": null,
            "max_width": null,
            "min_height": null,
            "min_width": null,
            "object_fit": null,
            "object_position": null,
            "order": null,
            "overflow": null,
            "overflow_x": null,
            "overflow_y": null,
            "padding": null,
            "right": null,
            "top": null,
            "visibility": null,
            "width": null
          }
        },
        "e09e24fee43042e7b29f43805c6282ac": {
          "model_module": "@jupyter-widgets/controls",
          "model_name": "ProgressStyleModel",
          "model_module_version": "1.5.0",
          "state": {
            "_model_module": "@jupyter-widgets/controls",
            "_model_module_version": "1.5.0",
            "_model_name": "ProgressStyleModel",
            "_view_count": null,
            "_view_module": "@jupyter-widgets/base",
            "_view_module_version": "1.2.0",
            "_view_name": "StyleView",
            "bar_color": null,
            "description_width": ""
          }
        },
        "0b79a0a7ba1840eb947be3974fa9ab7e": {
          "model_module": "@jupyter-widgets/base",
          "model_name": "LayoutModel",
          "model_module_version": "1.2.0",
          "state": {
            "_model_module": "@jupyter-widgets/base",
            "_model_module_version": "1.2.0",
            "_model_name": "LayoutModel",
            "_view_count": null,
            "_view_module": "@jupyter-widgets/base",
            "_view_module_version": "1.2.0",
            "_view_name": "LayoutView",
            "align_content": null,
            "align_items": null,
            "align_self": null,
            "border": null,
            "bottom": null,
            "display": null,
            "flex": null,
            "flex_flow": null,
            "grid_area": null,
            "grid_auto_columns": null,
            "grid_auto_flow": null,
            "grid_auto_rows": null,
            "grid_column": null,
            "grid_gap": null,
            "grid_row": null,
            "grid_template_areas": null,
            "grid_template_columns": null,
            "grid_template_rows": null,
            "height": null,
            "justify_content": null,
            "justify_items": null,
            "left": null,
            "margin": null,
            "max_height": null,
            "max_width": null,
            "min_height": null,
            "min_width": null,
            "object_fit": null,
            "object_position": null,
            "order": null,
            "overflow": null,
            "overflow_x": null,
            "overflow_y": null,
            "padding": null,
            "right": null,
            "top": null,
            "visibility": null,
            "width": null
          }
        },
        "697cfc7c5833461f89cc4943061944b6": {
          "model_module": "@jupyter-widgets/controls",
          "model_name": "DescriptionStyleModel",
          "model_module_version": "1.5.0",
          "state": {
            "_model_module": "@jupyter-widgets/controls",
            "_model_module_version": "1.5.0",
            "_model_name": "DescriptionStyleModel",
            "_view_count": null,
            "_view_module": "@jupyter-widgets/base",
            "_view_module_version": "1.2.0",
            "_view_name": "StyleView",
            "description_width": ""
          }
        },
        "2dbf3e623b5e40c6b31852b2bd30d553": {
          "model_module": "@jupyter-widgets/controls",
          "model_name": "HBoxModel",
          "model_module_version": "1.5.0",
          "state": {
            "_dom_classes": [],
            "_model_module": "@jupyter-widgets/controls",
            "_model_module_version": "1.5.0",
            "_model_name": "HBoxModel",
            "_view_count": null,
            "_view_module": "@jupyter-widgets/controls",
            "_view_module_version": "1.5.0",
            "_view_name": "HBoxView",
            "box_style": "",
            "children": [
              "IPY_MODEL_912d2d2e24cf4d4ab104ce90cb81e854",
              "IPY_MODEL_a560421bf3e94f3091624ffd978d731f",
              "IPY_MODEL_b813546c146645c1b78c807e1370c338"
            ],
            "layout": "IPY_MODEL_1bfd1a1f80f848fd8d2cacf0eb612018"
          }
        },
        "912d2d2e24cf4d4ab104ce90cb81e854": {
          "model_module": "@jupyter-widgets/controls",
          "model_name": "HTMLModel",
          "model_module_version": "1.5.0",
          "state": {
            "_dom_classes": [],
            "_model_module": "@jupyter-widgets/controls",
            "_model_module_version": "1.5.0",
            "_model_name": "HTMLModel",
            "_view_count": null,
            "_view_module": "@jupyter-widgets/controls",
            "_view_module_version": "1.5.0",
            "_view_name": "HTMLView",
            "description": "",
            "description_tooltip": null,
            "layout": "IPY_MODEL_11c47e46a3d0476c978a8d21a0a8306e",
            "placeholder": "​",
            "style": "IPY_MODEL_d024a80e16404b09bb7b2ba78ca6a539",
            "value": "100%"
          }
        },
        "a560421bf3e94f3091624ffd978d731f": {
          "model_module": "@jupyter-widgets/controls",
          "model_name": "FloatProgressModel",
          "model_module_version": "1.5.0",
          "state": {
            "_dom_classes": [],
            "_model_module": "@jupyter-widgets/controls",
            "_model_module_version": "1.5.0",
            "_model_name": "FloatProgressModel",
            "_view_count": null,
            "_view_module": "@jupyter-widgets/controls",
            "_view_module_version": "1.5.0",
            "_view_name": "ProgressView",
            "bar_style": "success",
            "description": "",
            "description_tooltip": null,
            "layout": "IPY_MODEL_34c379ce4e8d4bf5b795a09ec925568d",
            "max": 29515,
            "min": 0,
            "orientation": "horizontal",
            "style": "IPY_MODEL_48fac48226c14fde843d4d4930266fb1",
            "value": 29515
          }
        },
        "b813546c146645c1b78c807e1370c338": {
          "model_module": "@jupyter-widgets/controls",
          "model_name": "HTMLModel",
          "model_module_version": "1.5.0",
          "state": {
            "_dom_classes": [],
            "_model_module": "@jupyter-widgets/controls",
            "_model_module_version": "1.5.0",
            "_model_name": "HTMLModel",
            "_view_count": null,
            "_view_module": "@jupyter-widgets/controls",
            "_view_module_version": "1.5.0",
            "_view_name": "HTMLView",
            "description": "",
            "description_tooltip": null,
            "layout": "IPY_MODEL_049c5b8f038f4db09c86309ac4c9b1e1",
            "placeholder": "​",
            "style": "IPY_MODEL_55417582fbe043888010a6231ab09f61",
            "value": " 29515/29515 [00:00&lt;00:00, 146351.10it/s]"
          }
        },
        "1bfd1a1f80f848fd8d2cacf0eb612018": {
          "model_module": "@jupyter-widgets/base",
          "model_name": "LayoutModel",
          "model_module_version": "1.2.0",
          "state": {
            "_model_module": "@jupyter-widgets/base",
            "_model_module_version": "1.2.0",
            "_model_name": "LayoutModel",
            "_view_count": null,
            "_view_module": "@jupyter-widgets/base",
            "_view_module_version": "1.2.0",
            "_view_name": "LayoutView",
            "align_content": null,
            "align_items": null,
            "align_self": null,
            "border": null,
            "bottom": null,
            "display": null,
            "flex": null,
            "flex_flow": null,
            "grid_area": null,
            "grid_auto_columns": null,
            "grid_auto_flow": null,
            "grid_auto_rows": null,
            "grid_column": null,
            "grid_gap": null,
            "grid_row": null,
            "grid_template_areas": null,
            "grid_template_columns": null,
            "grid_template_rows": null,
            "height": null,
            "justify_content": null,
            "justify_items": null,
            "left": null,
            "margin": null,
            "max_height": null,
            "max_width": null,
            "min_height": null,
            "min_width": null,
            "object_fit": null,
            "object_position": null,
            "order": null,
            "overflow": null,
            "overflow_x": null,
            "overflow_y": null,
            "padding": null,
            "right": null,
            "top": null,
            "visibility": null,
            "width": null
          }
        },
        "11c47e46a3d0476c978a8d21a0a8306e": {
          "model_module": "@jupyter-widgets/base",
          "model_name": "LayoutModel",
          "model_module_version": "1.2.0",
          "state": {
            "_model_module": "@jupyter-widgets/base",
            "_model_module_version": "1.2.0",
            "_model_name": "LayoutModel",
            "_view_count": null,
            "_view_module": "@jupyter-widgets/base",
            "_view_module_version": "1.2.0",
            "_view_name": "LayoutView",
            "align_content": null,
            "align_items": null,
            "align_self": null,
            "border": null,
            "bottom": null,
            "display": null,
            "flex": null,
            "flex_flow": null,
            "grid_area": null,
            "grid_auto_columns": null,
            "grid_auto_flow": null,
            "grid_auto_rows": null,
            "grid_column": null,
            "grid_gap": null,
            "grid_row": null,
            "grid_template_areas": null,
            "grid_template_columns": null,
            "grid_template_rows": null,
            "height": null,
            "justify_content": null,
            "justify_items": null,
            "left": null,
            "margin": null,
            "max_height": null,
            "max_width": null,
            "min_height": null,
            "min_width": null,
            "object_fit": null,
            "object_position": null,
            "order": null,
            "overflow": null,
            "overflow_x": null,
            "overflow_y": null,
            "padding": null,
            "right": null,
            "top": null,
            "visibility": null,
            "width": null
          }
        },
        "d024a80e16404b09bb7b2ba78ca6a539": {
          "model_module": "@jupyter-widgets/controls",
          "model_name": "DescriptionStyleModel",
          "model_module_version": "1.5.0",
          "state": {
            "_model_module": "@jupyter-widgets/controls",
            "_model_module_version": "1.5.0",
            "_model_name": "DescriptionStyleModel",
            "_view_count": null,
            "_view_module": "@jupyter-widgets/base",
            "_view_module_version": "1.2.0",
            "_view_name": "StyleView",
            "description_width": ""
          }
        },
        "34c379ce4e8d4bf5b795a09ec925568d": {
          "model_module": "@jupyter-widgets/base",
          "model_name": "LayoutModel",
          "model_module_version": "1.2.0",
          "state": {
            "_model_module": "@jupyter-widgets/base",
            "_model_module_version": "1.2.0",
            "_model_name": "LayoutModel",
            "_view_count": null,
            "_view_module": "@jupyter-widgets/base",
            "_view_module_version": "1.2.0",
            "_view_name": "LayoutView",
            "align_content": null,
            "align_items": null,
            "align_self": null,
            "border": null,
            "bottom": null,
            "display": null,
            "flex": null,
            "flex_flow": null,
            "grid_area": null,
            "grid_auto_columns": null,
            "grid_auto_flow": null,
            "grid_auto_rows": null,
            "grid_column": null,
            "grid_gap": null,
            "grid_row": null,
            "grid_template_areas": null,
            "grid_template_columns": null,
            "grid_template_rows": null,
            "height": null,
            "justify_content": null,
            "justify_items": null,
            "left": null,
            "margin": null,
            "max_height": null,
            "max_width": null,
            "min_height": null,
            "min_width": null,
            "object_fit": null,
            "object_position": null,
            "order": null,
            "overflow": null,
            "overflow_x": null,
            "overflow_y": null,
            "padding": null,
            "right": null,
            "top": null,
            "visibility": null,
            "width": null
          }
        },
        "48fac48226c14fde843d4d4930266fb1": {
          "model_module": "@jupyter-widgets/controls",
          "model_name": "ProgressStyleModel",
          "model_module_version": "1.5.0",
          "state": {
            "_model_module": "@jupyter-widgets/controls",
            "_model_module_version": "1.5.0",
            "_model_name": "ProgressStyleModel",
            "_view_count": null,
            "_view_module": "@jupyter-widgets/base",
            "_view_module_version": "1.2.0",
            "_view_name": "StyleView",
            "bar_color": null,
            "description_width": ""
          }
        },
        "049c5b8f038f4db09c86309ac4c9b1e1": {
          "model_module": "@jupyter-widgets/base",
          "model_name": "LayoutModel",
          "model_module_version": "1.2.0",
          "state": {
            "_model_module": "@jupyter-widgets/base",
            "_model_module_version": "1.2.0",
            "_model_name": "LayoutModel",
            "_view_count": null,
            "_view_module": "@jupyter-widgets/base",
            "_view_module_version": "1.2.0",
            "_view_name": "LayoutView",
            "align_content": null,
            "align_items": null,
            "align_self": null,
            "border": null,
            "bottom": null,
            "display": null,
            "flex": null,
            "flex_flow": null,
            "grid_area": null,
            "grid_auto_columns": null,
            "grid_auto_flow": null,
            "grid_auto_rows": null,
            "grid_column": null,
            "grid_gap": null,
            "grid_row": null,
            "grid_template_areas": null,
            "grid_template_columns": null,
            "grid_template_rows": null,
            "height": null,
            "justify_content": null,
            "justify_items": null,
            "left": null,
            "margin": null,
            "max_height": null,
            "max_width": null,
            "min_height": null,
            "min_width": null,
            "object_fit": null,
            "object_position": null,
            "order": null,
            "overflow": null,
            "overflow_x": null,
            "overflow_y": null,
            "padding": null,
            "right": null,
            "top": null,
            "visibility": null,
            "width": null
          }
        },
        "55417582fbe043888010a6231ab09f61": {
          "model_module": "@jupyter-widgets/controls",
          "model_name": "DescriptionStyleModel",
          "model_module_version": "1.5.0",
          "state": {
            "_model_module": "@jupyter-widgets/controls",
            "_model_module_version": "1.5.0",
            "_model_name": "DescriptionStyleModel",
            "_view_count": null,
            "_view_module": "@jupyter-widgets/base",
            "_view_module_version": "1.2.0",
            "_view_name": "StyleView",
            "description_width": ""
          }
        },
        "32b2d97f70d645909f93b6a7ef365152": {
          "model_module": "@jupyter-widgets/controls",
          "model_name": "HBoxModel",
          "model_module_version": "1.5.0",
          "state": {
            "_dom_classes": [],
            "_model_module": "@jupyter-widgets/controls",
            "_model_module_version": "1.5.0",
            "_model_name": "HBoxModel",
            "_view_count": null,
            "_view_module": "@jupyter-widgets/controls",
            "_view_module_version": "1.5.0",
            "_view_name": "HBoxView",
            "box_style": "",
            "children": [
              "IPY_MODEL_6286ebeb49e740beb0cc9fd407b3a6b8",
              "IPY_MODEL_cc2d9fe7ad8144618035b6043ed1af67",
              "IPY_MODEL_00662f8bae16474b895ef17c2a44c840"
            ],
            "layout": "IPY_MODEL_6dc3ffc3ca594bd089eed9029f5b4fa5"
          }
        },
        "6286ebeb49e740beb0cc9fd407b3a6b8": {
          "model_module": "@jupyter-widgets/controls",
          "model_name": "HTMLModel",
          "model_module_version": "1.5.0",
          "state": {
            "_dom_classes": [],
            "_model_module": "@jupyter-widgets/controls",
            "_model_module_version": "1.5.0",
            "_model_name": "HTMLModel",
            "_view_count": null,
            "_view_module": "@jupyter-widgets/controls",
            "_view_module_version": "1.5.0",
            "_view_name": "HTMLView",
            "description": "",
            "description_tooltip": null,
            "layout": "IPY_MODEL_9e1119293d1c43e39178a3da961537e3",
            "placeholder": "​",
            "style": "IPY_MODEL_c525317c6dd44bd8952303372e8a591a",
            "value": "100%"
          }
        },
        "cc2d9fe7ad8144618035b6043ed1af67": {
          "model_module": "@jupyter-widgets/controls",
          "model_name": "FloatProgressModel",
          "model_module_version": "1.5.0",
          "state": {
            "_dom_classes": [],
            "_model_module": "@jupyter-widgets/controls",
            "_model_module_version": "1.5.0",
            "_model_name": "FloatProgressModel",
            "_view_count": null,
            "_view_module": "@jupyter-widgets/controls",
            "_view_module_version": "1.5.0",
            "_view_name": "ProgressView",
            "bar_style": "success",
            "description": "",
            "description_tooltip": null,
            "layout": "IPY_MODEL_4fbefb99b15044cb9c0fb08ca0ee37a2",
            "max": 4422102,
            "min": 0,
            "orientation": "horizontal",
            "style": "IPY_MODEL_eefdac801328467fb61f0bf2d646b4c7",
            "value": 4422102
          }
        },
        "00662f8bae16474b895ef17c2a44c840": {
          "model_module": "@jupyter-widgets/controls",
          "model_name": "HTMLModel",
          "model_module_version": "1.5.0",
          "state": {
            "_dom_classes": [],
            "_model_module": "@jupyter-widgets/controls",
            "_model_module_version": "1.5.0",
            "_model_name": "HTMLModel",
            "_view_count": null,
            "_view_module": "@jupyter-widgets/controls",
            "_view_module_version": "1.5.0",
            "_view_name": "HTMLView",
            "description": "",
            "description_tooltip": null,
            "layout": "IPY_MODEL_bdcc9f9dd2334363a6d66603c3625b1e",
            "placeholder": "​",
            "style": "IPY_MODEL_98e1d13f9594475da92c3c02281368d1",
            "value": " 4422102/4422102 [00:01&lt;00:00, 4611753.22it/s]"
          }
        },
        "6dc3ffc3ca594bd089eed9029f5b4fa5": {
          "model_module": "@jupyter-widgets/base",
          "model_name": "LayoutModel",
          "model_module_version": "1.2.0",
          "state": {
            "_model_module": "@jupyter-widgets/base",
            "_model_module_version": "1.2.0",
            "_model_name": "LayoutModel",
            "_view_count": null,
            "_view_module": "@jupyter-widgets/base",
            "_view_module_version": "1.2.0",
            "_view_name": "LayoutView",
            "align_content": null,
            "align_items": null,
            "align_self": null,
            "border": null,
            "bottom": null,
            "display": null,
            "flex": null,
            "flex_flow": null,
            "grid_area": null,
            "grid_auto_columns": null,
            "grid_auto_flow": null,
            "grid_auto_rows": null,
            "grid_column": null,
            "grid_gap": null,
            "grid_row": null,
            "grid_template_areas": null,
            "grid_template_columns": null,
            "grid_template_rows": null,
            "height": null,
            "justify_content": null,
            "justify_items": null,
            "left": null,
            "margin": null,
            "max_height": null,
            "max_width": null,
            "min_height": null,
            "min_width": null,
            "object_fit": null,
            "object_position": null,
            "order": null,
            "overflow": null,
            "overflow_x": null,
            "overflow_y": null,
            "padding": null,
            "right": null,
            "top": null,
            "visibility": null,
            "width": null
          }
        },
        "9e1119293d1c43e39178a3da961537e3": {
          "model_module": "@jupyter-widgets/base",
          "model_name": "LayoutModel",
          "model_module_version": "1.2.0",
          "state": {
            "_model_module": "@jupyter-widgets/base",
            "_model_module_version": "1.2.0",
            "_model_name": "LayoutModel",
            "_view_count": null,
            "_view_module": "@jupyter-widgets/base",
            "_view_module_version": "1.2.0",
            "_view_name": "LayoutView",
            "align_content": null,
            "align_items": null,
            "align_self": null,
            "border": null,
            "bottom": null,
            "display": null,
            "flex": null,
            "flex_flow": null,
            "grid_area": null,
            "grid_auto_columns": null,
            "grid_auto_flow": null,
            "grid_auto_rows": null,
            "grid_column": null,
            "grid_gap": null,
            "grid_row": null,
            "grid_template_areas": null,
            "grid_template_columns": null,
            "grid_template_rows": null,
            "height": null,
            "justify_content": null,
            "justify_items": null,
            "left": null,
            "margin": null,
            "max_height": null,
            "max_width": null,
            "min_height": null,
            "min_width": null,
            "object_fit": null,
            "object_position": null,
            "order": null,
            "overflow": null,
            "overflow_x": null,
            "overflow_y": null,
            "padding": null,
            "right": null,
            "top": null,
            "visibility": null,
            "width": null
          }
        },
        "c525317c6dd44bd8952303372e8a591a": {
          "model_module": "@jupyter-widgets/controls",
          "model_name": "DescriptionStyleModel",
          "model_module_version": "1.5.0",
          "state": {
            "_model_module": "@jupyter-widgets/controls",
            "_model_module_version": "1.5.0",
            "_model_name": "DescriptionStyleModel",
            "_view_count": null,
            "_view_module": "@jupyter-widgets/base",
            "_view_module_version": "1.2.0",
            "_view_name": "StyleView",
            "description_width": ""
          }
        },
        "4fbefb99b15044cb9c0fb08ca0ee37a2": {
          "model_module": "@jupyter-widgets/base",
          "model_name": "LayoutModel",
          "model_module_version": "1.2.0",
          "state": {
            "_model_module": "@jupyter-widgets/base",
            "_model_module_version": "1.2.0",
            "_model_name": "LayoutModel",
            "_view_count": null,
            "_view_module": "@jupyter-widgets/base",
            "_view_module_version": "1.2.0",
            "_view_name": "LayoutView",
            "align_content": null,
            "align_items": null,
            "align_self": null,
            "border": null,
            "bottom": null,
            "display": null,
            "flex": null,
            "flex_flow": null,
            "grid_area": null,
            "grid_auto_columns": null,
            "grid_auto_flow": null,
            "grid_auto_rows": null,
            "grid_column": null,
            "grid_gap": null,
            "grid_row": null,
            "grid_template_areas": null,
            "grid_template_columns": null,
            "grid_template_rows": null,
            "height": null,
            "justify_content": null,
            "justify_items": null,
            "left": null,
            "margin": null,
            "max_height": null,
            "max_width": null,
            "min_height": null,
            "min_width": null,
            "object_fit": null,
            "object_position": null,
            "order": null,
            "overflow": null,
            "overflow_x": null,
            "overflow_y": null,
            "padding": null,
            "right": null,
            "top": null,
            "visibility": null,
            "width": null
          }
        },
        "eefdac801328467fb61f0bf2d646b4c7": {
          "model_module": "@jupyter-widgets/controls",
          "model_name": "ProgressStyleModel",
          "model_module_version": "1.5.0",
          "state": {
            "_model_module": "@jupyter-widgets/controls",
            "_model_module_version": "1.5.0",
            "_model_name": "ProgressStyleModel",
            "_view_count": null,
            "_view_module": "@jupyter-widgets/base",
            "_view_module_version": "1.2.0",
            "_view_name": "StyleView",
            "bar_color": null,
            "description_width": ""
          }
        },
        "bdcc9f9dd2334363a6d66603c3625b1e": {
          "model_module": "@jupyter-widgets/base",
          "model_name": "LayoutModel",
          "model_module_version": "1.2.0",
          "state": {
            "_model_module": "@jupyter-widgets/base",
            "_model_module_version": "1.2.0",
            "_model_name": "LayoutModel",
            "_view_count": null,
            "_view_module": "@jupyter-widgets/base",
            "_view_module_version": "1.2.0",
            "_view_name": "LayoutView",
            "align_content": null,
            "align_items": null,
            "align_self": null,
            "border": null,
            "bottom": null,
            "display": null,
            "flex": null,
            "flex_flow": null,
            "grid_area": null,
            "grid_auto_columns": null,
            "grid_auto_flow": null,
            "grid_auto_rows": null,
            "grid_column": null,
            "grid_gap": null,
            "grid_row": null,
            "grid_template_areas": null,
            "grid_template_columns": null,
            "grid_template_rows": null,
            "height": null,
            "justify_content": null,
            "justify_items": null,
            "left": null,
            "margin": null,
            "max_height": null,
            "max_width": null,
            "min_height": null,
            "min_width": null,
            "object_fit": null,
            "object_position": null,
            "order": null,
            "overflow": null,
            "overflow_x": null,
            "overflow_y": null,
            "padding": null,
            "right": null,
            "top": null,
            "visibility": null,
            "width": null
          }
        },
        "98e1d13f9594475da92c3c02281368d1": {
          "model_module": "@jupyter-widgets/controls",
          "model_name": "DescriptionStyleModel",
          "model_module_version": "1.5.0",
          "state": {
            "_model_module": "@jupyter-widgets/controls",
            "_model_module_version": "1.5.0",
            "_model_name": "DescriptionStyleModel",
            "_view_count": null,
            "_view_module": "@jupyter-widgets/base",
            "_view_module_version": "1.2.0",
            "_view_name": "StyleView",
            "description_width": ""
          }
        },
        "529971d5bc4a46ef8a6199cc1b7d8877": {
          "model_module": "@jupyter-widgets/controls",
          "model_name": "HBoxModel",
          "model_module_version": "1.5.0",
          "state": {
            "_dom_classes": [],
            "_model_module": "@jupyter-widgets/controls",
            "_model_module_version": "1.5.0",
            "_model_name": "HBoxModel",
            "_view_count": null,
            "_view_module": "@jupyter-widgets/controls",
            "_view_module_version": "1.5.0",
            "_view_name": "HBoxView",
            "box_style": "",
            "children": [
              "IPY_MODEL_1398d7c5adaf4d809759421db0f6e741",
              "IPY_MODEL_b3cbdf19e7b84ae5ac6d1f7774fac9eb",
              "IPY_MODEL_f0b4d635f7734e5fa9e8709b55bfc1a5"
            ],
            "layout": "IPY_MODEL_92f7d1f7c72b4c5fa615747f2907e83f"
          }
        },
        "1398d7c5adaf4d809759421db0f6e741": {
          "model_module": "@jupyter-widgets/controls",
          "model_name": "HTMLModel",
          "model_module_version": "1.5.0",
          "state": {
            "_dom_classes": [],
            "_model_module": "@jupyter-widgets/controls",
            "_model_module_version": "1.5.0",
            "_model_name": "HTMLModel",
            "_view_count": null,
            "_view_module": "@jupyter-widgets/controls",
            "_view_module_version": "1.5.0",
            "_view_name": "HTMLView",
            "description": "",
            "description_tooltip": null,
            "layout": "IPY_MODEL_476323e6c0ae4ceeadf844753bbe881e",
            "placeholder": "​",
            "style": "IPY_MODEL_60f999d6b91c43eba1b88d0e2669a99a",
            "value": "100%"
          }
        },
        "b3cbdf19e7b84ae5ac6d1f7774fac9eb": {
          "model_module": "@jupyter-widgets/controls",
          "model_name": "FloatProgressModel",
          "model_module_version": "1.5.0",
          "state": {
            "_dom_classes": [],
            "_model_module": "@jupyter-widgets/controls",
            "_model_module_version": "1.5.0",
            "_model_name": "FloatProgressModel",
            "_view_count": null,
            "_view_module": "@jupyter-widgets/controls",
            "_view_module_version": "1.5.0",
            "_view_name": "ProgressView",
            "bar_style": "success",
            "description": "",
            "description_tooltip": null,
            "layout": "IPY_MODEL_e641b43b020949fdadaf49e11abed7e2",
            "max": 5148,
            "min": 0,
            "orientation": "horizontal",
            "style": "IPY_MODEL_c8001770b8584266ad233c1b74de1cf9",
            "value": 5148
          }
        },
        "f0b4d635f7734e5fa9e8709b55bfc1a5": {
          "model_module": "@jupyter-widgets/controls",
          "model_name": "HTMLModel",
          "model_module_version": "1.5.0",
          "state": {
            "_dom_classes": [],
            "_model_module": "@jupyter-widgets/controls",
            "_model_module_version": "1.5.0",
            "_model_name": "HTMLModel",
            "_view_count": null,
            "_view_module": "@jupyter-widgets/controls",
            "_view_module_version": "1.5.0",
            "_view_name": "HTMLView",
            "description": "",
            "description_tooltip": null,
            "layout": "IPY_MODEL_c0fbcc15e4b94019aa8fd34ae25c5e4b",
            "placeholder": "​",
            "style": "IPY_MODEL_d2bdaa5947b24cd0b9cbd6e373af37d5",
            "value": " 5148/5148 [00:00&lt;00:00, 391874.36it/s]"
          }
        },
        "92f7d1f7c72b4c5fa615747f2907e83f": {
          "model_module": "@jupyter-widgets/base",
          "model_name": "LayoutModel",
          "model_module_version": "1.2.0",
          "state": {
            "_model_module": "@jupyter-widgets/base",
            "_model_module_version": "1.2.0",
            "_model_name": "LayoutModel",
            "_view_count": null,
            "_view_module": "@jupyter-widgets/base",
            "_view_module_version": "1.2.0",
            "_view_name": "LayoutView",
            "align_content": null,
            "align_items": null,
            "align_self": null,
            "border": null,
            "bottom": null,
            "display": null,
            "flex": null,
            "flex_flow": null,
            "grid_area": null,
            "grid_auto_columns": null,
            "grid_auto_flow": null,
            "grid_auto_rows": null,
            "grid_column": null,
            "grid_gap": null,
            "grid_row": null,
            "grid_template_areas": null,
            "grid_template_columns": null,
            "grid_template_rows": null,
            "height": null,
            "justify_content": null,
            "justify_items": null,
            "left": null,
            "margin": null,
            "max_height": null,
            "max_width": null,
            "min_height": null,
            "min_width": null,
            "object_fit": null,
            "object_position": null,
            "order": null,
            "overflow": null,
            "overflow_x": null,
            "overflow_y": null,
            "padding": null,
            "right": null,
            "top": null,
            "visibility": null,
            "width": null
          }
        },
        "476323e6c0ae4ceeadf844753bbe881e": {
          "model_module": "@jupyter-widgets/base",
          "model_name": "LayoutModel",
          "model_module_version": "1.2.0",
          "state": {
            "_model_module": "@jupyter-widgets/base",
            "_model_module_version": "1.2.0",
            "_model_name": "LayoutModel",
            "_view_count": null,
            "_view_module": "@jupyter-widgets/base",
            "_view_module_version": "1.2.0",
            "_view_name": "LayoutView",
            "align_content": null,
            "align_items": null,
            "align_self": null,
            "border": null,
            "bottom": null,
            "display": null,
            "flex": null,
            "flex_flow": null,
            "grid_area": null,
            "grid_auto_columns": null,
            "grid_auto_flow": null,
            "grid_auto_rows": null,
            "grid_column": null,
            "grid_gap": null,
            "grid_row": null,
            "grid_template_areas": null,
            "grid_template_columns": null,
            "grid_template_rows": null,
            "height": null,
            "justify_content": null,
            "justify_items": null,
            "left": null,
            "margin": null,
            "max_height": null,
            "max_width": null,
            "min_height": null,
            "min_width": null,
            "object_fit": null,
            "object_position": null,
            "order": null,
            "overflow": null,
            "overflow_x": null,
            "overflow_y": null,
            "padding": null,
            "right": null,
            "top": null,
            "visibility": null,
            "width": null
          }
        },
        "60f999d6b91c43eba1b88d0e2669a99a": {
          "model_module": "@jupyter-widgets/controls",
          "model_name": "DescriptionStyleModel",
          "model_module_version": "1.5.0",
          "state": {
            "_model_module": "@jupyter-widgets/controls",
            "_model_module_version": "1.5.0",
            "_model_name": "DescriptionStyleModel",
            "_view_count": null,
            "_view_module": "@jupyter-widgets/base",
            "_view_module_version": "1.2.0",
            "_view_name": "StyleView",
            "description_width": ""
          }
        },
        "e641b43b020949fdadaf49e11abed7e2": {
          "model_module": "@jupyter-widgets/base",
          "model_name": "LayoutModel",
          "model_module_version": "1.2.0",
          "state": {
            "_model_module": "@jupyter-widgets/base",
            "_model_module_version": "1.2.0",
            "_model_name": "LayoutModel",
            "_view_count": null,
            "_view_module": "@jupyter-widgets/base",
            "_view_module_version": "1.2.0",
            "_view_name": "LayoutView",
            "align_content": null,
            "align_items": null,
            "align_self": null,
            "border": null,
            "bottom": null,
            "display": null,
            "flex": null,
            "flex_flow": null,
            "grid_area": null,
            "grid_auto_columns": null,
            "grid_auto_flow": null,
            "grid_auto_rows": null,
            "grid_column": null,
            "grid_gap": null,
            "grid_row": null,
            "grid_template_areas": null,
            "grid_template_columns": null,
            "grid_template_rows": null,
            "height": null,
            "justify_content": null,
            "justify_items": null,
            "left": null,
            "margin": null,
            "max_height": null,
            "max_width": null,
            "min_height": null,
            "min_width": null,
            "object_fit": null,
            "object_position": null,
            "order": null,
            "overflow": null,
            "overflow_x": null,
            "overflow_y": null,
            "padding": null,
            "right": null,
            "top": null,
            "visibility": null,
            "width": null
          }
        },
        "c8001770b8584266ad233c1b74de1cf9": {
          "model_module": "@jupyter-widgets/controls",
          "model_name": "ProgressStyleModel",
          "model_module_version": "1.5.0",
          "state": {
            "_model_module": "@jupyter-widgets/controls",
            "_model_module_version": "1.5.0",
            "_model_name": "ProgressStyleModel",
            "_view_count": null,
            "_view_module": "@jupyter-widgets/base",
            "_view_module_version": "1.2.0",
            "_view_name": "StyleView",
            "bar_color": null,
            "description_width": ""
          }
        },
        "c0fbcc15e4b94019aa8fd34ae25c5e4b": {
          "model_module": "@jupyter-widgets/base",
          "model_name": "LayoutModel",
          "model_module_version": "1.2.0",
          "state": {
            "_model_module": "@jupyter-widgets/base",
            "_model_module_version": "1.2.0",
            "_model_name": "LayoutModel",
            "_view_count": null,
            "_view_module": "@jupyter-widgets/base",
            "_view_module_version": "1.2.0",
            "_view_name": "LayoutView",
            "align_content": null,
            "align_items": null,
            "align_self": null,
            "border": null,
            "bottom": null,
            "display": null,
            "flex": null,
            "flex_flow": null,
            "grid_area": null,
            "grid_auto_columns": null,
            "grid_auto_flow": null,
            "grid_auto_rows": null,
            "grid_column": null,
            "grid_gap": null,
            "grid_row": null,
            "grid_template_areas": null,
            "grid_template_columns": null,
            "grid_template_rows": null,
            "height": null,
            "justify_content": null,
            "justify_items": null,
            "left": null,
            "margin": null,
            "max_height": null,
            "max_width": null,
            "min_height": null,
            "min_width": null,
            "object_fit": null,
            "object_position": null,
            "order": null,
            "overflow": null,
            "overflow_x": null,
            "overflow_y": null,
            "padding": null,
            "right": null,
            "top": null,
            "visibility": null,
            "width": null
          }
        },
        "d2bdaa5947b24cd0b9cbd6e373af37d5": {
          "model_module": "@jupyter-widgets/controls",
          "model_name": "DescriptionStyleModel",
          "model_module_version": "1.5.0",
          "state": {
            "_model_module": "@jupyter-widgets/controls",
            "_model_module_version": "1.5.0",
            "_model_name": "DescriptionStyleModel",
            "_view_count": null,
            "_view_module": "@jupyter-widgets/base",
            "_view_module_version": "1.2.0",
            "_view_name": "StyleView",
            "description_width": ""
          }
        }
      }
    },
    "gpuClass": "standard"
  },
  "nbformat": 4,
  "nbformat_minor": 0
}