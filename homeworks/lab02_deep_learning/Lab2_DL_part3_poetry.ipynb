{
 "cells": [
  {
   "cell_type": "markdown",
   "metadata": {
    "id": "IO7CQANODkdM"
   },
   "source": [
    "## Lab 2"
   ]
  },
  {
   "cell_type": "markdown",
   "metadata": {
    "id": "JPV__8uADkdO"
   },
   "source": [
    "### Part 3. Poetry generation\n",
    "\n",
    "Let's try to generate some poetry using RNNs. \n",
    "\n",
    "You have several choices here: \n",
    "\n",
    "* The Shakespeare sonnets, file `sonnets.txt` available in the notebook directory.\n",
    "\n",
    "* Роман в стихах \"Евгений Онегин\" Александра Сергеевича Пушкина. В предобработанном виде доступен по [ссылке](https://github.com/attatrol/data_sources/blob/master/onegin.txt).\n",
    "\n",
    "* Some other text source, if it will be approved by the course staff.\n",
    "\n",
    "Text generation can be designed in several steps:\n",
    "    \n",
    "1. Data loading.\n",
    "2. Dictionary generation.\n",
    "3. Data preprocessing.\n",
    "4. Model (neural network) training.\n",
    "5. Text generation (model evaluation).\n"
   ]
  },
  {
   "cell_type": "code",
   "execution_count": 56,
   "metadata": {
    "id": "8RXlQKr-DkdQ"
   },
   "outputs": [],
   "source": [
    "import string\n",
    "import os\n",
    "\n",
    "import numpy as np\n",
    "import matplotlib.pyplot as plt\n",
    "%matplotlib inline"
   ]
  },
  {
   "cell_type": "markdown",
   "metadata": {
    "id": "RLAk8zu9DkdQ"
   },
   "source": [
    "### Data loading: Shakespeare"
   ]
  },
  {
   "cell_type": "markdown",
   "metadata": {
    "id": "dKaPBBlxDkdR"
   },
   "source": [
    "Shakespeare sonnets are awailable at this [link](http://www.gutenberg.org/ebooks/1041?msg=welcome_stranger). In addition, they are stored in the same directory as this notebook (`sonnetes.txt`). Simple preprocessing is already done for you in the next cell: all technical info is dropped."
   ]
  },
  {
   "cell_type": "code",
   "execution_count": 57,
   "metadata": {
    "colab": {
     "base_uri": "https://localhost:8080/",
     "height": 380
    },
    "id": "4sRjCnsFDkdR",
    "outputId": "74fc389a-30c3-44e2-883e-d200a588cce9"
   },
   "outputs": [],
   "source": [
    "if not os.path.exists('sonnets.txt'):\n",
    "    !wget https://raw.githubusercontent.com/girafe-ai/ml-course/22f_basic/homeworks_basic/lab02_deep_learning/sonnets.txt\n",
    "\n",
    "with open('sonnets.txt', 'r') as iofile:\n",
    "    text = iofile.readlines()\n",
    "    \n",
    "TEXT_START = 45\n",
    "TEXT_END = -368\n",
    "text = text[TEXT_START : TEXT_END]\n",
    "assert len(text) == 2616"
   ]
  },
  {
   "cell_type": "markdown",
   "metadata": {
    "id": "8cHSyqDNDkdS"
   },
   "source": [
    "In opposite to the in-class practice, this time we want to predict complex text. Let's reduce the complexity of the task and lowercase all the symbols.\n",
    "\n",
    "Now variable `text` is a list of strings. Join all the strings into one and lowercase it."
   ]
  },
  {
   "cell_type": "code",
   "execution_count": 58,
   "metadata": {},
   "outputs": [
    {
     "name": "stdout",
     "output_type": "stream",
     "text": [
      "63\n"
     ]
    }
   ],
   "source": [
    "# Join all the strings into one and lowercase it\n",
    "# Put result into variable text.\n",
    "\n",
    "# Your great code here\n",
    "out = str()\n",
    "MAX_LENGTH = 0\n",
    "for line in text:\n",
    "    out += line.lower()\n",
    "    if len(line) > MAX_LENGTH:\n",
    "        MAX_LENGTH = len(line)\n",
    "text = out\n",
    "print(MAX_LENGTH)"
   ]
  },
  {
   "cell_type": "code",
   "execution_count": 59,
   "metadata": {
    "colab": {
     "base_uri": "https://localhost:8080/",
     "height": 238
    },
    "id": "V54xDD4UDkdS",
    "outputId": "4dbc73bd-096b-482a-a058-4553d5592f34"
   },
   "outputs": [
    {
     "name": "stdout",
     "output_type": "stream",
     "text": [
      "OK!\n"
     ]
    }
   ],
   "source": [
    "assert len(text) == 100225, 'Are you sure you have concatenated all the strings?'\n",
    "assert not any([x in set(text) for x in string.ascii_uppercase]), 'Uppercase letters are present'\n",
    "print('OK!')"
   ]
  },
  {
   "cell_type": "markdown",
   "metadata": {
    "id": "PUpFhSwcDkdT"
   },
   "source": [
    "### Data loading: \"Евгений Онегин\"\n"
   ]
  },
  {
   "cell_type": "code",
   "execution_count": null,
   "metadata": {
    "id": "X0AzGTntDkdU",
    "outputId": "26b04ef7-62d6-47b0-f0f3-50715d0ac4f3"
   },
   "outputs": [],
   "source": [
    "!wget https://raw.githubusercontent.com/attatrol/data_sources/master/onegin.txt\n",
    "    \n",
    "with open('onegin.txt', 'r') as iofile:\n",
    "    text = iofile.readlines()\n",
    "    \n",
    "text = [x.replace('\\t\\t', '') for x in text]"
   ]
  },
  {
   "cell_type": "markdown",
   "metadata": {
    "id": "Sq8jIFPyDkdV"
   },
   "source": [
    "In opposite to the in-class practice, this time we want to predict complex text. Let's reduce the complexity of the task and lowercase all the symbols.\n",
    "\n",
    "Now variable `text` is a list of strings. Join all the strings into one and lowercase it."
   ]
  },
  {
   "cell_type": "markdown",
   "metadata": {
    "id": "-qbXhRW6DkdV"
   },
   "source": [
    "Put all the characters, that you've seen in the text, into variable `tokens`."
   ]
  },
  {
   "cell_type": "code",
   "execution_count": 60,
   "metadata": {
    "id": "6rx_yyH2DkdV"
   },
   "outputs": [],
   "source": [
    "tokens = sorted(set(text))"
   ]
  },
  {
   "cell_type": "markdown",
   "metadata": {
    "id": "aGWtnB9iDkdW"
   },
   "source": [
    "Create dictionary `token_to_idx = {<char>: <index>}` and dictionary `idx_to_token = {<index>: <char>}`"
   ]
  },
  {
   "cell_type": "code",
   "execution_count": 61,
   "metadata": {
    "id": "UTVycj_4DkdW",
    "outputId": "b746aea1-c7c5-4870-c85b-a901e27ab41b"
   },
   "outputs": [
    {
     "data": {
      "text/plain": [
       "38"
      ]
     },
     "execution_count": 61,
     "metadata": {},
     "output_type": "execute_result"
    }
   ],
   "source": [
    "# dict <index>:<char>\n",
    "# Your great code here\n",
    "token_to_idx = {token: idx for idx, token in enumerate(tokens)}\n",
    "\n",
    "# dict <char>:<index>\n",
    "# Your great code here\n",
    "idx_to_token = {idx: token for idx, token in enumerate(tokens)}\n",
    "len(tokens)"
   ]
  },
  {
   "cell_type": "markdown",
   "metadata": {
    "id": "4kt18B9eDkdW"
   },
   "source": [
    "*Comment: in this task we have only 38 different tokens, so let's use one-hot encoding.*"
   ]
  },
  {
   "cell_type": "markdown",
   "metadata": {
    "id": "NNuFlJvPDkdW"
   },
   "source": [
    "### Building the model"
   ]
  },
  {
   "cell_type": "markdown",
   "metadata": {
    "id": "pvrNOCenDkdX"
   },
   "source": [
    "Now we want to build and train recurrent neural net which would be able to something similar to Shakespeare's poetry.\n",
    "\n",
    "Let's use vanilla RNN, similar to the one created during the lesson."
   ]
  },
  {
   "cell_type": "code",
   "execution_count": 62,
   "metadata": {
    "id": "gtpM3heuDkdX"
   },
   "outputs": [],
   "source": [
    "# Your code here\n",
    "\n",
    "from tqdm import tqdm\n",
    "from IPython.display import clear_output\n",
    "import torch, torch.nn as nn\n",
    "\n",
    "num_tokens = len(tokens)\n",
    "\n",
    "class CharRNNLoop(nn.Module):\n",
    "    def __init__(self, num_tokens=num_tokens, emb_size=24, rnn_num_units=64):\n",
    "        super(self.__class__, self).__init__()\n",
    "        self.emb = nn.Embedding(num_tokens, emb_size)\n",
    "        self.rnn = nn.RNN(emb_size, rnn_num_units, batch_first=True, num_layers=1)\n",
    "        self.hid_to_logits = nn.Linear(rnn_num_units, num_tokens)\n",
    "        \n",
    "    def forward(self, x, h_state):\n",
    "        #print(x.data)\n",
    "        assert isinstance(x.data, torch.LongTensor)\n",
    "        h_seq, h_state = self.rnn(self.emb(x), h_state)\n",
    "        logits = self.hid_to_logits(h_seq)\n",
    "        next_logp = F.log_softmax(logits, dim=-1)\n",
    "        return next_logp, h_state \n",
    "\n",
    "def to_matrix(text, batch_size=32, seq_len=None, dtype=torch.long):\n",
    "    if not seq_len:\n",
    "        seq_len = len(text) // batch_size\n",
    "        \n",
    "    matrix = []\n",
    "    for i in range(0, seq_len * batch_size, seq_len):\n",
    "        matrix.append([token_to_idx[c] for c in text[i:i+seq_len]])\n",
    "\n",
    "    return torch.tensor(matrix, dtype=dtype)"
   ]
  },
  {
   "cell_type": "code",
   "execution_count": 63,
   "metadata": {},
   "outputs": [],
   "source": [
    "model = CharRNNLoop()\n",
    "criterion = nn.NLLLoss()\n",
    "opt = torch.optim.Adam(model.parameters())"
   ]
  },
  {
   "cell_type": "code",
   "execution_count": 64,
   "metadata": {},
   "outputs": [
    {
     "data": {
      "image/png": "[encoded data removed]",
      "text/plain": [
       "<Figure size 432x288 with 1 Axes>"
      ]
     },
     "metadata": {
      "needs_background": "light"
     },
     "output_type": "display_data"
    },
    {
     "name": "stderr",
     "output_type": "stream",
     "text": [
      "100%|███████████████████████████████████████| 1000/1000 [06:33<00:00,  2.54it/s]\n"
     ]
    }
   ],
   "source": [
    "from tqdm import tqdm\n",
    "from IPython.display import clear_output\n",
    "import torch, torch.nn as nn\n",
    "import torch.nn.functional as F\n",
    "\n",
    "batch_size = 32\n",
    "\n",
    "batch_ix = to_matrix(text, batch_size)\n",
    "history = []\n",
    "for i in tqdm(range(1000)):\n",
    "    h_state = torch.zeros(1, batch_size, 64)\n",
    "    logp_seq, _ = model(batch_ix, h_state)\n",
    "    \n",
    "\n",
    "    \n",
    "    predictions_logp = logp_seq[:, :-1]\n",
    "    actual_next_tokens = batch_ix[:, 1:]\n",
    "\n",
    "    loss = criterion(logp_seq[:, :-1].contiguous().view(-1, num_tokens),\n",
    "                 batch_ix[:, 1:].contiguous().view(-1))\n",
    "    # train with backprop\n",
    "    opt.zero_grad()\n",
    "    loss.backward()\n",
    "    opt.step()\n",
    "    \n",
    "    history.append(loss.item())\n",
    "    \n",
    "    if (i+1)%100==0:\n",
    "        clear_output(True)\n",
    "        plt.plot(history,label='loss')\n",
    "        plt.xlabel('epochs')\n",
    "        plt.legend()\n",
    "        plt.title('Loss vs. epochs for RNN')\n",
    "        plt.show()"
   ]
  },
  {
   "cell_type": "markdown",
   "metadata": {
    "id": "hAhGjMHUDkdX"
   },
   "source": [
    "Plot the loss function (axis X: number of epochs, axis Y: loss function)."
   ]
  },
  {
   "cell_type": "code",
   "execution_count": 65,
   "metadata": {
    "id": "CqYfXs4IDkdZ"
   },
   "outputs": [
    {
     "name": "stdout",
     "output_type": "stream",
     "text": [
      "shall show.\n",
      "  the onterdering my hare the beauty be that and part be thy with searss the wain this in the with duth do the that the beauty the from be makes the so thou sumpincter self at thine shown the arthest in prest so fory be that the beauty self thou dear doth be some thou prose of this of me thou so praise beauty say with one thou mine,\n",
      "  the pood the were the warly have in the rest the fair, which are thou love the ward a see on the cordave a prides be of the with thou hangs that sun th\n"
     ]
    }
   ],
   "source": [
    "def generate_text(model, length, seed_phrase='shall', temperature=1.0):\n",
    "    model.eval()\n",
    "    \n",
    "    x_sequence = [token_to_idx[token] for token in seed_phrase]\n",
    "    x_sequence = torch.tensor([[x_sequence]], dtype=torch.long)\n",
    "    \n",
    "    hid_state = torch.zeros(1, 1, 64)\n",
    "    for i in range(len(seed_phrase) - 1):\n",
    "        _, hid_state = model(x_sequence[:, :, i], hid_state)\n",
    "    \n",
    "    #start generating\n",
    "    for _ in range(length - len(seed_phrase)):\n",
    "        logp_next, hid_state = model(x_sequence[:, :, -1], hid_state)\n",
    "        p_next = F.softmax(logp_next / temperature, dim=-1).data.numpy()[0].ravel()\n",
    "        \n",
    "        # sample next token and push it back into x_sequence\n",
    "        next_ix = np.random.choice(len(tokens),p=p_next)\n",
    "        next_ix = torch.tensor([[[next_ix]]], dtype=torch.long)\n",
    "        x_sequence = torch.cat([x_sequence, next_ix], dim=2)\n",
    "        \n",
    "    return ''.join([tokens[ix] for ix in x_sequence.data.numpy()[0][0]])\n",
    "\n",
    "print(generate_text(model, length=500, temperature=0.5))"
   ]
  },
  {
   "cell_type": "markdown",
   "metadata": {
    "id": "cdXeNe3NDkdZ"
   },
   "source": [
    "### More poetic model\n",
    "\n",
    "Let's use LSTM instead of vanilla RNN and compare the results."
   ]
  },
  {
   "cell_type": "markdown",
   "metadata": {
    "id": "_iur4JJpDkdZ"
   },
   "source": [
    "Plot the loss function of the number of epochs. Does the final loss become better?"
   ]
  },
  {
   "cell_type": "code",
   "execution_count": 66,
   "metadata": {
    "id": "rG1Lyc5NDkdZ"
   },
   "outputs": [
    {
     "data": {
      "image/png": "[encoded data removed]",
      "text/plain": [
       "<Figure size 432x288 with 1 Axes>"
      ]
     },
     "metadata": {
      "needs_background": "light"
     },
     "output_type": "display_data"
    },
    {
     "name": "stderr",
     "output_type": "stream",
     "text": [
      "100%|███████████████████████████████████████| 1000/1000 [17:00<00:00,  1.02s/it]\n"
     ]
    }
   ],
   "source": [
    "num_tokens = len(tokens)\n",
    "class CharLSTMLoop(nn.Module):\n",
    "    def __init__(self, num_tokens=num_tokens, emb_size=24, lstm_num_units=64):\n",
    "        super(self.__class__, self).__init__()\n",
    "        self.emb = nn.Embedding(num_tokens, emb_size)\n",
    "        self.lstm = nn.LSTM(emb_size, lstm_num_units, batch_first=True)\n",
    "        self.hid_to_logits = nn.Linear(lstm_num_units, num_tokens)\n",
    "        \n",
    "    def forward(self, x, h_n, c_n):\n",
    "        assert isinstance(x.data, torch.LongTensor)\n",
    "        h_seq, (h_n, c_n) = self.lstm(self.emb(x), (h_n, c_n))\n",
    "        logits = self.hid_to_logits(h_seq)\n",
    "        next_logp = F.log_softmax(logits, dim=-1)\n",
    "        return next_logp, (h_n, c_n)\n",
    "    \n",
    "model_lstm = CharLSTMLoop()\n",
    "criterion = nn.NLLLoss()\n",
    "opt_lstm = torch.optim.Adam(model_lstm.parameters())\n",
    "\n",
    "history_lstm = []\n",
    "for i in tqdm(range(1000)):\n",
    "    (h_init, c_init) = (torch.zeros(1, batch_size, 64),\n",
    "                        torch.zeros(1, batch_size, 64))\n",
    "    logp_seq, _ = model_lstm(batch_ix, h_init, c_init)\n",
    "    \n",
    "\n",
    "    \n",
    "    predictions_logp = logp_seq[:, :-1]\n",
    "    actual_next_tokens = batch_ix[:, 1:]\n",
    "\n",
    "    loss = criterion(logp_seq[:, :-1].contiguous().view(-1, num_tokens),\n",
    "                 batch_ix[:, 1:].contiguous().view(-1))\n",
    "    # train with backprop\n",
    "    opt_lstm.zero_grad()\n",
    "    loss.backward()\n",
    "    opt_lstm.step()\n",
    "    \n",
    "    history_lstm.append(loss.item())\n",
    "    \n",
    "    if (i+1)%100==0:\n",
    "        clear_output(True)\n",
    "        plt.plot(history_lstm,label='loss')\n",
    "        plt.xlabel('epochs')\n",
    "        plt.legend()\n",
    "        plt.title('Loss vs. epochs for LSTM')\n",
    "        plt.show()"
   ]
  },
  {
   "cell_type": "code",
   "execution_count": 69,
   "metadata": {},
   "outputs": [
    {
     "name": "stdout",
     "output_type": "stream",
     "text": [
      "The score for LSTM is 1.6001806259155273, for RNN - 1.630288004875183 which is only 3% better in our case but the gap might get bigger during futher training or on a bigger dataset.\n"
     ]
    }
   ],
   "source": [
    "print(f'The score for LSTM is {history_lstm[-1]}, for RNN - {history[-1]} which is only 3% better in our case but the gap might get bigger during futher training or on a bigger dataset.')"
   ]
  },
  {
   "cell_type": "code",
   "execution_count": 70,
   "metadata": {},
   "outputs": [
    {
     "data": {
      "image/png": "[encoded data removed]",
      "text/plain": [
       "<Figure size 432x288 with 1 Axes>"
      ]
     },
     "metadata": {
      "needs_background": "light"
     },
     "output_type": "display_data"
    }
   ],
   "source": [
    "plt.plot(history, label='RNN')\n",
    "plt.plot(history_lstm, label='LSTM')\n",
    "plt.title('RNN vs. LSTM')\n",
    "plt.xlabel('epochs')\n",
    "plt.ylabel('loss score')\n",
    "plt.legend()\n",
    "plt.show()"
   ]
  },
  {
   "cell_type": "markdown",
   "metadata": {
    "id": "ceBzaJCDDkda"
   },
   "source": [
    "Generate text using the trained net with different `temperature` parameter: `[0.1, 0.2, 0.5, 1.0, 2.0]`.\n",
    "\n",
    "Evaluate the results visually, try to interpret them."
   ]
  },
  {
   "cell_type": "code",
   "execution_count": 73,
   "metadata": {},
   "outputs": [],
   "source": [
    "def generate_text_lstm(model, length, seed_phrase='shall', temperature=1.0):\n",
    "    model.eval()\n",
    "    \n",
    "    x_sequence = [token_to_idx[token] for token in seed_phrase]\n",
    "    x_sequence = torch.tensor([[x_sequence]], dtype=torch.long)\n",
    "    \n",
    "    (h_state, c_state) = (torch.zeros(1, 1, 64),\n",
    "                        torch.zeros(1, 1, 64))\n",
    "    for i in range(len(seed_phrase) - 1):\n",
    "        _, (h_state, c_state) = model(x_sequence[:, :, i], h_state, c_state)\n",
    "    \n",
    "    #start generating\n",
    "    for _ in range(length - len(seed_phrase)):\n",
    "        logp_next, (h_state, c_state) = model(x_sequence[:, :, -1], h_state, c_state)\n",
    "        p_next = F.softmax(logp_next / temperature, dim=-1).data.numpy()[0].ravel()\n",
    "        \n",
    "        # sample next token and push it back into x_sequence\n",
    "        next_ix = np.random.choice(len(tokens),p=p_next)\n",
    "        next_ix = torch.tensor([[[next_ix]]], dtype=torch.long)\n",
    "        x_sequence = torch.cat([x_sequence, next_ix], dim=2)\n",
    "        \n",
    "    return ''.join([tokens[ix] for ix in x_sequence.data.numpy()[0][0]])"
   ]
  },
  {
   "cell_type": "code",
   "execution_count": 74,
   "metadata": {
    "id": "1C5Ocbf_Dkda"
   },
   "outputs": [
    {
     "name": "stdout",
     "output_type": "stream",
     "text": [
      "shall thee the stand the stand the stand the stand the strange,\n",
      "  and the stand the stand the still the stand the see the stand the stand the stand the stand the stand the stand in the see the stand the stand the stand the stand the stand the stand the stand the stand the stand the strange,\n",
      "  and the see the stand the stand the stand the stand the stand the stand the stand the stand the stand the see the stand the stand the stand the stand the stand the stand the stand the stand the stare with t\n",
      "=-=-=-=-=-=-=-=-Temperature is 0.1-=-=-=-=-=-=-=-=-=-=-=-\n",
      "shalled thee and the stare the strange,\n",
      "  and the stand the praise the stand thee my sunce is the shall the stand,\n",
      "    be the self thee thee the still the stand,\n",
      "  and the the see the strange,\n",
      "  and the stare my stange the strains the will the strange,\n",
      "  and the see the stare my love the strange the still the stand in the beauty in me thee the still the stand thee in the then the shall and the seep thee the strange,\n",
      "  the so the then the stange the still the stand,\n",
      "  the sear thee thee my some t\n",
      "=-=-=-=-=-=-=-=-Temperature is 0.2-=-=-=-=-=-=-=-=-=-=-=-\n",
      "shalless,\n",
      "    the seet,\n",
      "  the thee of the strong of the shall the starth;\n",
      "  the mind, and dear from and thee me fair so me sweet of so the sand hering thy liver to the bease be of the fair thee then dear muse so do the with thou see;\n",
      "    whos sinds what thoughts thee worth hear the with his they with the suntion in more of the some doth the pend\n",
      "  the lides of thou should with stain;\n",
      "  the preep heart thou so the conthess the sweet with have i state,\n",
      "  so may love,\n",
      "  which for that the gright,\n",
      " \n",
      "=-=-=-=-=-=-=-=-Temperature is 0.5-=-=-=-=-=-=-=-=-=-=-=-\n",
      "shally doth is thase they self; thine,\n",
      "  and groped part vire mores vace,\n",
      "   but not, sangne-t(spiven, and her engests world my loving truest in in.\n",
      "\n",
      "  lxxii\n",
      "\n",
      "  in day masingjysy.\n",
      "     if bevig, seef\n",
      "  be sowst eard.\n",
      "    o! worll that renige,\n",
      "  strueth thee botker, very i with do ab theire atteate:\n",
      "  you had:\n",
      "   whem kastel glan is all,\n",
      "  tha erros's repemon\n",
      "  thouthus is fatilig, that jee,\n",
      "  so to must heartle my doilt spaifner time prove in dislath for in amonen.\n",
      "   reviiv's foul'dered bed lov\n",
      "=-=-=-=-=-=-=-=-Temperature is 1.0-=-=-=-=-=-=-=-=-=-=-=-\n",
      "shallost, mappis;--detk--a)vonr jfel vav'\n",
      " im tor falioon; but stadn\n",
      "  as gakcy,\n",
      " ate ligwn's prounal qkithectost dinporrew'ss nollni\n",
      "\n",
      "  jhaq.j', age bnstild dip-hows-fuum)fn sing.\n",
      "b\n",
      "  his;\n",
      " \n",
      ". whis fib ppea kend viryac yfolbduw staiunenfns'\n",
      "  trec etuny yngwise n promy.\n",
      "\n",
      "   gyol uttuax'dd rysing her.\n",
      "\n",
      "\n",
      " \n",
      "  xi!\n",
      " bnt; ay sken chongh. terenisblsewh! in yoonar nye spro;e ree,\n",
      "  gllifents.\n",
      "  wour;\n",
      " fuenp;\n",
      "  deis im othut reey\n",
      " ou; ior tyllt nonglintje;\n",
      "c meis, nike.s he vexf,\n",
      "   bujg;\n",
      "  yteernyou!;\n",
      "\n",
      "=-=-=-=-=-=-=-=-Temperature is 2.0-=-=-=-=-=-=-=-=-=-=-=-\n"
     ]
    }
   ],
   "source": [
    "# Text generation with different temperature values here\n",
    "for t in [0.1, 0.2, 0.5, 1.0, 2.0]:\n",
    "    print(generate_text_lstm(model_lstm, length=500, temperature=t))\n",
    "    print(f'=-=-=-=-=-=-=-=-Temperature is {t}-=-=-=-=-=-=-=-=-=-=-=-')"
   ]
  },
  {
   "cell_type": "markdown",
   "metadata": {},
   "source": [
    "Greater the temperature, more mess is being generated by the network, which is pretty intuitive, as long as for the low temperatures it keeps repeating itself. Might a just a personal opinion, but the temperature `0.5` seems to be just fine and the most appropriate."
   ]
  },
  {
   "cell_type": "markdown",
   "metadata": {
    "id": "FvTGo9zQDkda"
   },
   "source": [
    "### Saving and loading models"
   ]
  },
  {
   "cell_type": "markdown",
   "metadata": {
    "id": "dIiC_QhJDkdb"
   },
   "source": [
    "Save the model to the disk, then load it and generate text. Examples are available [here](https://pytorch.org/tutorials/beginner/saving_loading_models.html])."
   ]
  },
  {
   "cell_type": "code",
   "execution_count": 75,
   "metadata": {
    "id": "RAF5jvA2Dkdb"
   },
   "outputs": [
    {
     "name": "stdout",
     "output_type": "stream",
     "text": [
      "shalleves, and say deart's dear shall should of thou bear to the have the still of my love the shall i do will the then deporn and wheres in his beauty made cononed no loving beauty bear dear i do gavent to thy so fart of the stand shall a searth so thee mine is your some, is the shall they thy show in the love are in me of a sinder thee worth to not beauty thy misert,\n",
      "    proul the sain the sit me her thy death that i thee to thou main not beauty be my every seal thee of thine eyes my shall tha\n"
     ]
    }
   ],
   "source": [
    "torch.save(model_lstm.state_dict(), 'CharLSTMLoop.pt')\n",
    "model = CharLSTMLoop()\n",
    "model.load_state_dict(torch.load('CharLSTMLoop.pt'))\n",
    "model.eval()\n",
    "\n",
    "print(generate_text_lstm(model, length=500, temperature=0.5))"
   ]
  },
  {
   "cell_type": "markdown",
   "metadata": {
    "id": "-2jBtW7uDkdb"
   },
   "source": [
    "### References\n",
    "1. <a href='http://karpathy.github.io/2015/05/21/rnn-effectiveness/'> Andrew Karpathy blog post about RNN. </a> \n",
    "There are several examples of genration: Shakespeare texts, Latex formulas, Linux Sourse Code and children names.\n",
    "2. <a href='https://github.com/karpathy/char-rnn'> Repo with char-rnn code </a>\n",
    "3. Cool repo with PyTorch examples: [link](https://github.com/spro/practical-pytorch`)"
   ]
  }
 ],
 "metadata": {
  "anaconda-cloud": {},
  "colab": {
   "provenance": []
  },
  "kernelspec": {
   "display_name": "Python 3 (ipykernel)",
   "language": "python",
   "name": "python3"
  },
  "language_info": {
   "codemirror_mode": {
    "name": "ipython",
    "version": 3
   },
   "file_extension": ".py",
   "mimetype": "text/x-python",
   "name": "python",
   "nbconvert_exporter": "python",
   "pygments_lexer": "ipython3",
   "version": "3.10.8"
  }
 },
 "nbformat": 4,
 "nbformat_minor": 1
}
